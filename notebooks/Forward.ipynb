{
 "cells": [
  {
   "cell_type": "markdown",
   "metadata": {},
   "source": [
    "# Forward-mode automatic differentiation for Linear Mixed Models\n",
    "\n",
    "In this notebook we apply the formulas derived in [Differentiation of the Cholesky decomposition](https://arxiv.org/abs/1602.07527) to the evaluation of the profiled log-likelihood of a linear mixed model.\n",
    "\n",
    "## Examples of linear mixed models\n",
    "\n",
    "### A model with a single, simple, scalar random-effects term\n",
    "\n",
    "Consider first a mixed-effects model with a single, simple, scalar random-effects term.\n",
    "\n",
    "First, load the packages to be used"
   ]
  },
  {
   "cell_type": "code",
   "execution_count": 1,
   "metadata": {},
   "outputs": [
    {
     "name": "stderr",
     "output_type": "stream",
     "text": [
      "┌ Info: Precompiling MixedModels [ff71e718-51f3-5ec2-a782-8ffcbfa3c316]\n",
      "└ @ Base loading.jl:1260\n"
     ]
    }
   ],
   "source": [
    "using DataFrames, LinearAlgebra, MixedModels, Statistics\n",
    "using MixedModels: dataset"
   ]
  },
  {
   "cell_type": "markdown",
   "metadata": {},
   "source": [
    "and load the `dyestuff` data set"
   ]
  },
  {
   "cell_type": "code",
   "execution_count": 2,
   "metadata": {},
   "outputs": [
    {
     "data": {
      "text/html": [
       "<table class=\"data-frame\"><thead><tr><th></th><th>variable</th><th>mean</th><th>min</th><th>median</th><th>max</th><th>nunique</th><th>nmissing</th><th>eltype</th></tr><tr><th></th><th>Symbol</th><th>Union…</th><th>Any</th><th>Union…</th><th>Any</th><th>Union…</th><th>Nothing</th><th>DataType</th></tr></thead><tbody><p>2 rows × 8 columns</p><tr><th>1</th><td>batch</td><td></td><td>A</td><td></td><td>F</td><td>6</td><td></td><td>String</td></tr><tr><th>2</th><td>yield</td><td>1527.5</td><td>1440</td><td>1530.0</td><td>1635</td><td></td><td></td><td>Int16</td></tr></tbody></table>"
      ],
      "text/latex": [
       "\\begin{tabular}{r|cccccccc}\n",
       "\t& variable & mean & min & median & max & nunique & nmissing & eltype\\\\\n",
       "\t\\hline\n",
       "\t& Symbol & Union… & Any & Union… & Any & Union… & Nothing & DataType\\\\\n",
       "\t\\hline\n",
       "\t1 & batch &  & A &  & F & 6 &  & String \\\\\n",
       "\t2 & yield & 1527.5 & 1440 & 1530.0 & 1635 &  &  & Int16 \\\\\n",
       "\\end{tabular}\n"
      ],
      "text/plain": [
       "2×8 DataFrame. Omitted printing of 1 columns\n",
       "│ Row │ variable │ mean   │ min  │ median │ max  │ nunique │ nmissing │\n",
       "│     │ \u001b[90mSymbol\u001b[39m   │ \u001b[90mUnion…\u001b[39m │ \u001b[90mAny\u001b[39m  │ \u001b[90mUnion…\u001b[39m │ \u001b[90mAny\u001b[39m  │ \u001b[90mUnion…\u001b[39m  │ \u001b[90mNothing\u001b[39m  │\n",
       "├─────┼──────────┼────────┼──────┼────────┼──────┼─────────┼──────────┤\n",
       "│ 1   │ batch    │        │ A    │        │ F    │ 6       │          │\n",
       "│ 2   │ yield    │ 1527.5 │ 1440 │ 1530.0 │ 1635 │         │          │"
      ]
     },
     "execution_count": 2,
     "metadata": {},
     "output_type": "execute_result"
    }
   ],
   "source": [
    "dyestuff = dataset(:dyestuff)\n",
    "describe(dyestuff)"
   ]
  },
  {
   "cell_type": "markdown",
   "metadata": {},
   "source": [
    "There are a total of 30 measurements of the `yield`, 5 each for the 6 different batches.\n",
    "\n",
    "Fit a model with an overall `(Intercept)`, an estimate of the mean response when the `batch` is not specified, and random effects for each level of `batch`."
   ]
  },
  {
   "cell_type": "code",
   "execution_count": 3,
   "metadata": {},
   "outputs": [
    {
     "data": {
      "text/plain": [
       "Linear mixed model fit by maximum likelihood\n",
       " yield ~ 1 + (1 | batch)\n",
       "   logLik   -2 logLik     AIC        BIC    \n",
       " -163.66353  327.32706  333.32706  337.53065\n",
       "\n",
       "Variance components:\n",
       "            Column    Variance  Std.Dev. \n",
       "batch    (Intercept)  1388.3333 37.260345\n",
       "Residual              2451.2500 49.510100\n",
       " Number of obs: 30; levels of grouping factors: 6\n",
       "\n",
       "  Fixed-effects parameters:\n",
       "──────────────────────────────────────────────────\n",
       "             Estimate  Std.Error  z value  P(>|z|)\n",
       "──────────────────────────────────────────────────\n",
       "(Intercept)    1527.5    17.6946    86.33   <1e-99\n",
       "──────────────────────────────────────────────────"
      ]
     },
     "execution_count": 3,
     "metadata": {},
     "output_type": "execute_result"
    }
   ],
   "source": [
    "fm1 = fit(MixedModel, @formula(yield ~ 1+(1|batch)), dyestuff)"
   ]
  },
  {
   "cell_type": "markdown",
   "metadata": {},
   "source": [
    "The _maximum likelihood_ parameter estimates, $\\hat\\beta=1527.5$, $\\hat{\\sigma_1}=37.260$, and $\\hat{\\sigma}=49.510$, are the values that minimize the objective function, negative twice the log-likelihood."
   ]
  },
  {
   "cell_type": "code",
   "execution_count": 4,
   "metadata": {},
   "outputs": [
    {
     "data": {
      "text/plain": [
       "327.3270598811401"
      ]
     },
     "execution_count": 4,
     "metadata": {},
     "output_type": "execute_result"
    }
   ],
   "source": [
    "objective(fm1)"
   ]
  },
  {
   "cell_type": "markdown",
   "metadata": {},
   "source": [
    "The optimization of the objective is performed indirectly using the `profiled log-likelihood` that depends only on the ratio $\\theta=\\sigma_1/\\sigma$, evaluated from `L` the (lower) Cholesky factor of an augmented cross-product matrix."
   ]
  },
  {
   "cell_type": "code",
   "execution_count": 5,
   "metadata": {},
   "outputs": [
    {
     "data": {
      "text/plain": [
       "1-element Array{Float64,1}:\n",
       " 0.7525806757718846"
      ]
     },
     "execution_count": 5,
     "metadata": {},
     "output_type": "execute_result"
    }
   ],
   "source": [
    "fm1.θ"
   ]
  },
  {
   "cell_type": "code",
   "execution_count": 6,
   "metadata": {},
   "outputs": [
    {
     "data": {
      "text/plain": [
       "8×8 LowerTriangular{Float64,BlockArrays.BlockArray{Float64,2,Array{AbstractArray{Float64,2},2},Tuple{BlockArrays.BlockedUnitRange{Array{Int64,1}},BlockArrays.BlockedUnitRange{Array{Int64,1}}}}} with indices 1:1:8×1:1:8:\n",
       "    1.95752      ⋅           ⋅       …      ⋅           ⋅          ⋅   \n",
       "    0.0         1.95752      ⋅              ⋅           ⋅          ⋅   \n",
       "    0.0         0.0         1.95752         ⋅           ⋅          ⋅   \n",
       "    0.0         0.0         0.0             ⋅           ⋅          ⋅   \n",
       "    0.0         0.0         0.0             ⋅           ⋅          ⋅   \n",
       "    0.0         0.0         0.0    \n",
       " ──────────────────────────────────  …     1.95752      ⋅          ⋅   \n",
       " ───────────────────────────────\n",
       "    1.92228     1.92228     1.92228\n",
       " ──────────────────────────────────        1.92228     2.79804     ⋅   \n",
       " ───────────────────────────────\n",
       " 2893.03     2937.24     3006.45        2825.75     4274.01     271.178"
      ]
     },
     "execution_count": 6,
     "metadata": {},
     "output_type": "execute_result"
    }
   ],
   "source": [
    "LowerTriangular(fm1.L)"
   ]
  },
  {
   "cell_type": "markdown",
   "metadata": {},
   "source": [
    "In practice the matrix `L` is evaluated and stored as a `BlockMatrix`, as shown here, allowing for simplifications from sparsity in the blocks.  For example, the upper-left $6\\times 6$ block is diagonal. "
   ]
  },
  {
   "cell_type": "code",
   "execution_count": 7,
   "metadata": {},
   "outputs": [
    {
     "data": {
      "text/plain": [
       "6×6 Diagonal{Float64,Array{Float64,1}}:\n",
       " 1.95752   ⋅        ⋅        ⋅        ⋅        ⋅ \n",
       "  ⋅       1.95752   ⋅        ⋅        ⋅        ⋅ \n",
       "  ⋅        ⋅       1.95752   ⋅        ⋅        ⋅ \n",
       "  ⋅        ⋅        ⋅       1.95752   ⋅        ⋅ \n",
       "  ⋅        ⋅        ⋅        ⋅       1.95752   ⋅ \n",
       "  ⋅        ⋅        ⋅        ⋅        ⋅       1.95752"
      ]
     },
     "execution_count": 7,
     "metadata": {},
     "output_type": "execute_result"
    }
   ],
   "source": [
    "fm1.L[Block(1,1)]"
   ]
  },
  {
   "cell_type": "markdown",
   "metadata": {},
   "source": [
    "In deriving the profiled log-likelihood and its gradient it simplest to start with general matrices and consider adjustments for blocks later.  The `copyltri` utility extracts the lower triangle as a `Matrix`."
   ]
  },
  {
   "cell_type": "code",
   "execution_count": 8,
   "metadata": {},
   "outputs": [
    {
     "data": {
      "text/plain": [
       "8×8 Array{Float64,2}:\n",
       "    1.95752     0.0         0.0      …     0.0         0.0        0.0\n",
       "    0.0         1.95752     0.0            0.0         0.0        0.0\n",
       "    0.0         0.0         1.95752        0.0         0.0        0.0\n",
       "    0.0         0.0         0.0            0.0         0.0        0.0\n",
       "    0.0         0.0         0.0            0.0         0.0        0.0\n",
       "    0.0         0.0         0.0      …     1.95752     0.0        0.0\n",
       "    1.92228     1.92228     1.92228        1.92228     2.79804    0.0\n",
       " 2893.03     2937.24     3006.45        2825.75     4274.01     271.178"
      ]
     },
     "execution_count": 8,
     "metadata": {},
     "output_type": "execute_result"
    }
   ],
   "source": [
    "L = MixedModels.copyltri(fm1.L)"
   ]
  },
  {
   "cell_type": "markdown",
   "metadata": {},
   "source": [
    "The original data provides a symmetric blocked matrix, `A`, from which `L` is evaluated"
   ]
  },
  {
   "cell_type": "code",
   "execution_count": 9,
   "metadata": {},
   "outputs": [
    {
     "data": {
      "text/plain": [
       "8×8 Symmetric{Float64,BlockArrays.BlockArray{Float64,2,Array{AbstractArray{Float64,2},2},Tuple{BlockArrays.BlockedUnitRange{Array{Int64,1}},BlockArrays.BlockedUnitRange{Array{Int64,1}}}}} with indices 1:1:8×1:1:8:\n",
       "    5.0     0.0     0.0     0.0     0.0     0.0  │      5.0  │   7525.0      \n",
       "    0.0     5.0     0.0     0.0     0.0     0.0  │      5.0  │   7640.0      \n",
       "    0.0     0.0     5.0     0.0     0.0     0.0  │      5.0  │   7820.0      \n",
       "    0.0     0.0     0.0     5.0     0.0     0.0  │      5.0  │   7490.0      \n",
       "    0.0     0.0     0.0     0.0     5.0     0.0  │      5.0  │   8000.0      \n",
       "    0.0     0.0     0.0     0.0     0.0     5.0  │      5.0  │   7350.0      \n",
       " ────────────────────────────────────────────────┼───────────┼───────────────\n",
       "    5.0     5.0     5.0     5.0     5.0     5.0  │     30.0  │  45825.0      \n",
       " ────────────────────────────────────────────────┼───────────┼───────────────\n",
       " 7525.0  7640.0  7820.0  7490.0  8000.0  7350.0  │  45825.0  │      7.01129e7"
      ]
     },
     "execution_count": 9,
     "metadata": {},
     "output_type": "execute_result"
    }
   ],
   "source": [
    "Symmetric(fm1.A, :L)  # only the lower triangle is stored"
   ]
  },
  {
   "cell_type": "code",
   "execution_count": 10,
   "metadata": {},
   "outputs": [
    {
     "data": {
      "text/plain": [
       "8×8 Symmetric{Float64,Array{Float64,2}}:\n",
       "    5.0     0.0     0.0     0.0     0.0     0.0      5.0   7525.0\n",
       "    0.0     5.0     0.0     0.0     0.0     0.0      5.0   7640.0\n",
       "    0.0     0.0     5.0     0.0     0.0     0.0      5.0   7820.0\n",
       "    0.0     0.0     0.0     5.0     0.0     0.0      5.0   7490.0\n",
       "    0.0     0.0     0.0     0.0     5.0     0.0      5.0   8000.0\n",
       "    0.0     0.0     0.0     0.0     0.0     5.0      5.0   7350.0\n",
       "    5.0     5.0     5.0     5.0     5.0     5.0     30.0  45825.0\n",
       " 7525.0  7640.0  7820.0  7490.0  8000.0  7350.0  45825.0      7.01129e7"
      ]
     },
     "execution_count": 10,
     "metadata": {},
     "output_type": "execute_result"
    }
   ],
   "source": [
    "A = Symmetric(MixedModels.copyltri(LowerTriangular(fm1.A)), :L)"
   ]
  },
  {
   "cell_type": "markdown",
   "metadata": {},
   "source": [
    "This matrix is `[Z X y]'[Z X y]` where `Z` is the model matrix for the random effects, `X` is the model matrix for the fixed-effects parameter, $\\beta$, and `y` is the response."
   ]
  },
  {
   "cell_type": "code",
   "execution_count": 11,
   "metadata": {},
   "outputs": [
    {
     "data": {
      "text/plain": [
       "30×8 Array{Float64,2}:\n",
       " 1.0  0.0  0.0  0.0  0.0  0.0  1.0  1545.0\n",
       " 1.0  0.0  0.0  0.0  0.0  0.0  1.0  1440.0\n",
       " 1.0  0.0  0.0  0.0  0.0  0.0  1.0  1440.0\n",
       " 1.0  0.0  0.0  0.0  0.0  0.0  1.0  1520.0\n",
       " 1.0  0.0  0.0  0.0  0.0  0.0  1.0  1580.0\n",
       " 0.0  1.0  0.0  0.0  0.0  0.0  1.0  1540.0\n",
       " 0.0  1.0  0.0  0.0  0.0  0.0  1.0  1555.0\n",
       " 0.0  1.0  0.0  0.0  0.0  0.0  1.0  1490.0\n",
       " 0.0  1.0  0.0  0.0  0.0  0.0  1.0  1560.0\n",
       " 0.0  1.0  0.0  0.0  0.0  0.0  1.0  1495.0\n",
       " 0.0  0.0  1.0  0.0  0.0  0.0  1.0  1595.0\n",
       " 0.0  0.0  1.0  0.0  0.0  0.0  1.0  1550.0\n",
       " 0.0  0.0  1.0  0.0  0.0  0.0  1.0  1605.0\n",
       " ⋮                        ⋮         \n",
       " 0.0  0.0  0.0  1.0  0.0  0.0  1.0  1465.0\n",
       " 0.0  0.0  0.0  1.0  0.0  0.0  1.0  1545.0\n",
       " 0.0  0.0  0.0  0.0  1.0  0.0  1.0  1595.0\n",
       " 0.0  0.0  0.0  0.0  1.0  0.0  1.0  1630.0\n",
       " 0.0  0.0  0.0  0.0  1.0  0.0  1.0  1515.0\n",
       " 0.0  0.0  0.0  0.0  1.0  0.0  1.0  1635.0\n",
       " 0.0  0.0  0.0  0.0  1.0  0.0  1.0  1625.0\n",
       " 0.0  0.0  0.0  0.0  0.0  1.0  1.0  1520.0\n",
       " 0.0  0.0  0.0  0.0  0.0  1.0  1.0  1455.0\n",
       " 0.0  0.0  0.0  0.0  0.0  1.0  1.0  1450.0\n",
       " 0.0  0.0  0.0  0.0  0.0  1.0  1.0  1480.0\n",
       " 0.0  0.0  0.0  0.0  0.0  1.0  1.0  1445.0"
      ]
     },
     "execution_count": 11,
     "metadata": {},
     "output_type": "execute_result"
    }
   ],
   "source": [
    "ZXy = hcat(first(fm1.allterms), fm1.X, fm1.y)"
   ]
  },
  {
   "cell_type": "code",
   "execution_count": 12,
   "metadata": {},
   "outputs": [
    {
     "data": {
      "text/plain": [
       "true"
      ]
     },
     "execution_count": 12,
     "metadata": {},
     "output_type": "execute_result"
    }
   ],
   "source": [
    "A ≈ ZXy'ZXy"
   ]
  },
  {
   "cell_type": "markdown",
   "metadata": {},
   "source": [
    "The parameter $θ$ generates a diagonal matrix $\\Lambda$ that multiplies `Z` on the right.  For convenience extend $\\Lambda$ on the diagonal with an identity matrix to multiply `ZXy`."
   ]
  },
  {
   "cell_type": "code",
   "execution_count": 13,
   "metadata": {},
   "outputs": [
    {
     "data": {
      "text/plain": [
       "0.7525806757718846"
      ]
     },
     "execution_count": 13,
     "metadata": {},
     "output_type": "execute_result"
    }
   ],
   "source": [
    "θ = only(fm1.θ)"
   ]
  },
  {
   "cell_type": "code",
   "execution_count": 14,
   "metadata": {},
   "outputs": [
    {
     "data": {
      "text/plain": [
       "8×8 Diagonal{Float64,Array{Float64,1}}:\n",
       " 0.752581   ⋅         ⋅         ⋅         ⋅         ⋅         ⋅    ⋅ \n",
       "  ⋅        0.752581   ⋅         ⋅         ⋅         ⋅         ⋅    ⋅ \n",
       "  ⋅         ⋅        0.752581   ⋅         ⋅         ⋅         ⋅    ⋅ \n",
       "  ⋅         ⋅         ⋅        0.752581   ⋅         ⋅         ⋅    ⋅ \n",
       "  ⋅         ⋅         ⋅         ⋅        0.752581   ⋅         ⋅    ⋅ \n",
       "  ⋅         ⋅         ⋅         ⋅         ⋅        0.752581   ⋅    ⋅ \n",
       "  ⋅         ⋅         ⋅         ⋅         ⋅         ⋅        1.0   ⋅ \n",
       "  ⋅         ⋅         ⋅         ⋅         ⋅         ⋅         ⋅   1.0"
      ]
     },
     "execution_count": 14,
     "metadata": {},
     "output_type": "execute_result"
    }
   ],
   "source": [
    "Λ = Diagonal(vcat(fill(θ, 6), ones(2)))"
   ]
  },
  {
   "cell_type": "code",
   "execution_count": 15,
   "metadata": {},
   "outputs": [
    {
     "data": {
      "text/plain": [
       "30×8 Array{Float64,2}:\n",
       " 0.752581  0.0       0.0       0.0       0.0       0.0       1.0  1545.0\n",
       " 0.752581  0.0       0.0       0.0       0.0       0.0       1.0  1440.0\n",
       " 0.752581  0.0       0.0       0.0       0.0       0.0       1.0  1440.0\n",
       " 0.752581  0.0       0.0       0.0       0.0       0.0       1.0  1520.0\n",
       " 0.752581  0.0       0.0       0.0       0.0       0.0       1.0  1580.0\n",
       " 0.0       0.752581  0.0       0.0       0.0       0.0       1.0  1540.0\n",
       " 0.0       0.752581  0.0       0.0       0.0       0.0       1.0  1555.0\n",
       " 0.0       0.752581  0.0       0.0       0.0       0.0       1.0  1490.0\n",
       " 0.0       0.752581  0.0       0.0       0.0       0.0       1.0  1560.0\n",
       " 0.0       0.752581  0.0       0.0       0.0       0.0       1.0  1495.0\n",
       " 0.0       0.0       0.752581  0.0       0.0       0.0       1.0  1595.0\n",
       " 0.0       0.0       0.752581  0.0       0.0       0.0       1.0  1550.0\n",
       " 0.0       0.0       0.752581  0.0       0.0       0.0       1.0  1605.0\n",
       " ⋮                                                 ⋮              \n",
       " 0.0       0.0       0.0       0.752581  0.0       0.0       1.0  1465.0\n",
       " 0.0       0.0       0.0       0.752581  0.0       0.0       1.0  1545.0\n",
       " 0.0       0.0       0.0       0.0       0.752581  0.0       1.0  1595.0\n",
       " 0.0       0.0       0.0       0.0       0.752581  0.0       1.0  1630.0\n",
       " 0.0       0.0       0.0       0.0       0.752581  0.0       1.0  1515.0\n",
       " 0.0       0.0       0.0       0.0       0.752581  0.0       1.0  1635.0\n",
       " 0.0       0.0       0.0       0.0       0.752581  0.0       1.0  1625.0\n",
       " 0.0       0.0       0.0       0.0       0.0       0.752581  1.0  1520.0\n",
       " 0.0       0.0       0.0       0.0       0.0       0.752581  1.0  1455.0\n",
       " 0.0       0.0       0.0       0.0       0.0       0.752581  1.0  1450.0\n",
       " 0.0       0.0       0.0       0.0       0.0       0.752581  1.0  1480.0\n",
       " 0.0       0.0       0.0       0.0       0.0       0.752581  1.0  1445.0"
      ]
     },
     "execution_count": 15,
     "metadata": {},
     "output_type": "execute_result"
    }
   ],
   "source": [
    "ZXyΛ = ZXy * Λ"
   ]
  },
  {
   "cell_type": "code",
   "execution_count": 16,
   "metadata": {},
   "outputs": [
    {
     "data": {
      "text/plain": [
       "8×8 Array{Float64,2}:\n",
       "    2.83189     0.0         0.0         0.0      …      3.7629   5663.17\n",
       "    0.0         2.83189     0.0         0.0             3.7629   5749.72\n",
       "    0.0         0.0         2.83189     0.0             3.7629   5885.18\n",
       "    0.0         0.0         0.0         2.83189         3.7629   5636.83\n",
       "    0.0         0.0         0.0         0.0             3.7629   6020.65\n",
       "    0.0         0.0         0.0         0.0      …      3.7629   5531.47\n",
       "    3.7629      3.7629      3.7629      3.7629         30.0     45825.0\n",
       " 5663.17     5749.72     5885.18     5636.83        45825.0         7.01129e7"
      ]
     },
     "execution_count": 16,
     "metadata": {},
     "output_type": "execute_result"
    }
   ],
   "source": [
    "ZXyΛ'ZXyΛ"
   ]
  },
  {
   "cell_type": "markdown",
   "metadata": {},
   "source": [
    "Alternatively, this can be (and is) evaluated as"
   ]
  },
  {
   "cell_type": "code",
   "execution_count": 17,
   "metadata": {},
   "outputs": [
    {
     "data": {
      "text/plain": [
       "8×8 Array{Float64,2}:\n",
       "    2.83189     0.0         0.0         0.0      …      3.7629   5663.17\n",
       "    0.0         2.83189     0.0         0.0             3.7629   5749.72\n",
       "    0.0         0.0         2.83189     0.0             3.7629   5885.18\n",
       "    0.0         0.0         0.0         2.83189         3.7629   5636.83\n",
       "    0.0         0.0         0.0         0.0             3.7629   6020.65\n",
       "    0.0         0.0         0.0         0.0      …      3.7629   5531.47\n",
       "    3.7629      3.7629      3.7629      3.7629         30.0     45825.0\n",
       " 5663.17     5749.72     5885.18     5636.83        45825.0         7.01129e7"
      ]
     },
     "execution_count": 17,
     "metadata": {},
     "output_type": "execute_result"
    }
   ],
   "source": [
    "ΛAΛ = Λ'A*Λ"
   ]
  },
  {
   "cell_type": "markdown",
   "metadata": {},
   "source": [
    "Finally an identity matrix is added to the upper left block, which is $Λ^\\prime Z^\\prime ZΛ$.  When working with the extended cross-product matrix we must extend the diagonal of this identity matrix with zeros in the positions of the `X` and `y` columns in `ZXy`.  To align with the notation of [https://arxiv.org/abs/1602.07527] this matrix is written $\\Sigma$."
   ]
  },
  {
   "cell_type": "code",
   "execution_count": 18,
   "metadata": {},
   "outputs": [
    {
     "data": {
      "text/plain": [
       "8×8 Array{Float64,2}:\n",
       "    3.83189     0.0         0.0         0.0      …      3.7629   5663.17\n",
       "    0.0         3.83189     0.0         0.0             3.7629   5749.72\n",
       "    0.0         0.0         3.83189     0.0             3.7629   5885.18\n",
       "    0.0         0.0         0.0         3.83189         3.7629   5636.83\n",
       "    0.0         0.0         0.0         0.0             3.7629   6020.65\n",
       "    0.0         0.0         0.0         0.0      …      3.7629   5531.47\n",
       "    3.7629      3.7629      3.7629      3.7629         30.0     45825.0\n",
       " 5663.17     5749.72     5885.18     5636.83        45825.0         7.01129e7"
      ]
     },
     "execution_count": 18,
     "metadata": {},
     "output_type": "execute_result"
    }
   ],
   "source": [
    "Σ = ΛAΛ + Diagonal(vcat(trues(6), falses(2)))"
   ]
  },
  {
   "cell_type": "markdown",
   "metadata": {},
   "source": [
    "`L` is the lower Cholesky factor of this matrix"
   ]
  },
  {
   "cell_type": "code",
   "execution_count": 19,
   "metadata": {},
   "outputs": [
    {
     "data": {
      "text/plain": [
       "true"
      ]
     },
     "execution_count": 19,
     "metadata": {},
     "output_type": "execute_result"
    }
   ],
   "source": [
    "L*L' ≈ Σ"
   ]
  },
  {
   "cell_type": "markdown",
   "metadata": {},
   "source": [
    "The objective, which is negative twice the log-likelihood, is $\\log\\left(\\det\\left(\\Lambda^\\prime Z^\\prime Z \\Lambda + I\\right)\\right) + n\\left(1+\\log\\left(\\frac{2\\pi\\ell_{yy}^2}{n}\\right)\\right)$, where $\\ell_{yy}$ is the lower-right element of `L`, which happens to be the square root of the penalized sum of squared residuals, and $n$ is the number of observations.  $\\log\\left(\\det\\left(\\Lambda^\\prime Z^\\prime Z \\Lambda + I\\right)\\right)$ is evaluated as twice the sum of the logarithms of the diagonal elements of the upper $6\\times6$ submatrix of `L`."
   ]
  },
  {
   "cell_type": "code",
   "execution_count": 20,
   "metadata": {},
   "outputs": [
    {
     "data": {
      "text/plain": [
       "8.060146368533138"
      ]
     },
     "execution_count": 20,
     "metadata": {},
     "output_type": "execute_result"
    }
   ],
   "source": [
    "logdet(fm1)"
   ]
  },
  {
   "cell_type": "code",
   "execution_count": 21,
   "metadata": {},
   "outputs": [
    {
     "data": {
      "text/plain": [
       "8.060146368533138"
      ]
     },
     "execution_count": 21,
     "metadata": {},
     "output_type": "execute_result"
    }
   ],
   "source": [
    "2sum(log, diag(L)[1:6])"
   ]
  },
  {
   "cell_type": "markdown",
   "metadata": {},
   "source": [
    "The second term is evaluated from the estimate of the squared dispersion"
   ]
  },
  {
   "cell_type": "code",
   "execution_count": 22,
   "metadata": {},
   "outputs": [
    {
     "data": {
      "text/plain": [
       "7.804353384010887"
      ]
     },
     "execution_count": 22,
     "metadata": {},
     "output_type": "execute_result"
    }
   ],
   "source": [
    "log(dispersion(fm1, true))"
   ]
  },
  {
   "cell_type": "code",
   "execution_count": 23,
   "metadata": {},
   "outputs": [
    {
     "data": {
      "text/plain": [
       "30"
      ]
     },
     "execution_count": 23,
     "metadata": {},
     "output_type": "execute_result"
    }
   ],
   "source": [
    "n = length(fm1.y)"
   ]
  },
  {
   "cell_type": "code",
   "execution_count": 24,
   "metadata": {},
   "outputs": [
    {
     "data": {
      "text/plain": [
       "log2π = 1.8378770664093..."
      ]
     },
     "execution_count": 24,
     "metadata": {},
     "output_type": "execute_result"
    }
   ],
   "source": [
    "MixedModels.log2π"
   ]
  },
  {
   "cell_type": "code",
   "execution_count": 25,
   "metadata": {},
   "outputs": [
    {
     "data": {
      "text/plain": [
       "327.3270598811401"
      ]
     },
     "execution_count": 25,
     "metadata": {},
     "output_type": "execute_result"
    }
   ],
   "source": [
    "logdet(fm1) + n*(1 + MixedModels.log2π + log(dispersion(fm1, true)))"
   ]
  },
  {
   "cell_type": "code",
   "execution_count": 26,
   "metadata": {},
   "outputs": [
    {
     "data": {
      "text/plain": [
       "327.3270598811401"
      ]
     },
     "execution_count": 26,
     "metadata": {},
     "output_type": "execute_result"
    }
   ],
   "source": [
    "objective(fm1)"
   ]
  },
  {
   "cell_type": "markdown",
   "metadata": {},
   "source": [
    "## The gradient of the objective\n",
    "\n",
    "**Automatic differentiation** (AD) describes a collection of techniques for evaluating the gradient of an expression directly from the expression itself by application of the [chain rule](https://en.wikipedia.org/wiki/Chain_rule).  The evaluation of the objective, $f$, as a function of $\\theta$, can be decomposed as $\\theta\\rightarrow\\Lambda\\rightarrow\\Sigma\\rightarrow L\\rightarrow f$.  Application of the *forward rule* involves composing the forward sensitivities, usually written with a dot diacritical.\n",
    "\n",
    "Thus $\\dot{\\Lambda}=\\frac{d\\Lambda}{d\\theta}$ from which $\\frac{d\\Sigma}{d\\theta}=\\dot{\\Sigma}=\\dot{\\Lambda}^\\prime A \\Lambda+\\Lambda^\\prime A \\dot{\\Lambda}$ can be evaluated. [https://arxiv.org/abs/1602.07527] provides methods to evaluate $\\frac{dL}{d\\theta}=\\dot{L}$ from $\\dot{\\Sigma}$ and $L$.  Finally, given $\\dot{L}$ and $L$, the gradient $\\dot{f}=\\frac{d\\,f}{d\\theta}$ can be evaluated.\n",
    "\n",
    "Going through this, step-by-step,"
   ]
  },
  {
   "cell_type": "code",
   "execution_count": 27,
   "metadata": {},
   "outputs": [
    {
     "data": {
      "text/plain": [
       "8×8 Diagonal{Bool,BitArray{1}}:\n",
       " 1  ⋅  ⋅  ⋅  ⋅  ⋅  ⋅  ⋅\n",
       " ⋅  1  ⋅  ⋅  ⋅  ⋅  ⋅  ⋅\n",
       " ⋅  ⋅  1  ⋅  ⋅  ⋅  ⋅  ⋅\n",
       " ⋅  ⋅  ⋅  1  ⋅  ⋅  ⋅  ⋅\n",
       " ⋅  ⋅  ⋅  ⋅  1  ⋅  ⋅  ⋅\n",
       " ⋅  ⋅  ⋅  ⋅  ⋅  1  ⋅  ⋅\n",
       " ⋅  ⋅  ⋅  ⋅  ⋅  ⋅  0  ⋅\n",
       " ⋅  ⋅  ⋅  ⋅  ⋅  ⋅  ⋅  0"
      ]
     },
     "execution_count": 27,
     "metadata": {},
     "output_type": "execute_result"
    }
   ],
   "source": [
    "Λ̇ = Diagonal(vcat(trues(6), falses(2)))"
   ]
  },
  {
   "cell_type": "code",
   "execution_count": 28,
   "metadata": {},
   "outputs": [
    {
     "data": {
      "text/plain": [
       "8×8 Array{Float64,2}:\n",
       "    7.52581     0.0         0.0      …     0.0         0.0      5.0  7525.0\n",
       "    0.0         7.52581     0.0            0.0         0.0      5.0  7640.0\n",
       "    0.0         0.0         7.52581        0.0         0.0      5.0  7820.0\n",
       "    0.0         0.0         0.0            0.0         0.0      5.0  7490.0\n",
       "    0.0         0.0         0.0            7.52581     0.0      5.0  8000.0\n",
       "    0.0         0.0         0.0      …     0.0         7.52581  5.0  7350.0\n",
       "    5.0         5.0         5.0            5.0         5.0      0.0     0.0\n",
       " 7525.0      7640.0      7820.0         8000.0      7350.0      0.0     0.0"
      ]
     },
     "execution_count": 28,
     "metadata": {},
     "output_type": "execute_result"
    }
   ],
   "source": [
    "Σ̇ = Λ̇'A*Λ+Λ'A*Λ̇"
   ]
  },
  {
   "cell_type": "markdown",
   "metadata": {},
   "source": [
    "The function `MixedModels.chol_unblocked_fwd`, an almost literal transcription of the pseudo-code on p. 6 of [https://arxiv.org/abs/1602.07527], provides"
   ]
  },
  {
   "cell_type": "code",
   "execution_count": 29,
   "metadata": {},
   "outputs": [
    {
     "data": {
      "text/plain": [
       "8×8 Array{Float64,2}:\n",
       "    1.92228      0.0          0.0       …    0.0           0.0        0.0\n",
       "    0.0          1.92228      0.0            0.0           0.0        0.0\n",
       "    0.0          0.0          1.92228        0.0           0.0        0.0\n",
       "    0.0          0.0          0.0            0.0           0.0        0.0\n",
       "    0.0          0.0          0.0            0.0           0.0        0.0\n",
       "    0.0          0.0          0.0       …    1.92228       0.0        0.0\n",
       "    0.666578     0.666578     0.666578       0.666578     -2.74767    0.0\n",
       " 1003.2       1018.53      1042.53         979.869     -4197.06     -53.2592"
      ]
     },
     "execution_count": 29,
     "metadata": {},
     "output_type": "execute_result"
    }
   ],
   "source": [
    "L̇ = MixedModels.chol_unblocked_fwd(Matrix(LowerTriangular(Σ̇)), L)"
   ]
  },
  {
   "cell_type": "code",
   "execution_count": 30,
   "metadata": {},
   "outputs": [
    {
     "data": {
      "text/plain": [
       "-3.063889675303244e-7"
      ]
     },
     "execution_count": 30,
     "metadata": {},
     "output_type": "execute_result"
    }
   ],
   "source": [
    "ḟ = 2dot(diag(L̇), vcat(ones(6), 0, n) ./ diag(L))"
   ]
  },
  {
   "cell_type": "markdown",
   "metadata": {},
   "source": [
    "This derivative is very close to zero, as it should be at a estimate $\\widehat{\\theta}$ which is not on the boundary."
   ]
  },
  {
   "cell_type": "markdown",
   "metadata": {},
   "source": [
    "## Models with multiple simple, scalar random-effects terms\n",
    "\n",
    "Consider a model with random effects for both `sample` and `plate` fit to the `penicillin` data."
   ]
  },
  {
   "cell_type": "code",
   "execution_count": 31,
   "metadata": {},
   "outputs": [
    {
     "data": {
      "text/html": [
       "<table class=\"data-frame\"><thead><tr><th></th><th>variable</th><th>mean</th><th>min</th><th>median</th><th>max</th><th>nunique</th><th>nmissing</th><th>eltype</th></tr><tr><th></th><th>Symbol</th><th>Union…</th><th>Any</th><th>Union…</th><th>Any</th><th>Union…</th><th>Nothing</th><th>DataType</th></tr></thead><tbody><p>3 rows × 8 columns</p><tr><th>1</th><td>plate</td><td></td><td>a</td><td></td><td>x</td><td>24</td><td></td><td>String</td></tr><tr><th>2</th><td>sample</td><td></td><td>A</td><td></td><td>F</td><td>6</td><td></td><td>String</td></tr><tr><th>3</th><td>diameter</td><td>22.9722</td><td>18</td><td>23.0</td><td>27</td><td></td><td></td><td>Int8</td></tr></tbody></table>"
      ],
      "text/latex": [
       "\\begin{tabular}{r|cccccccc}\n",
       "\t& variable & mean & min & median & max & nunique & nmissing & eltype\\\\\n",
       "\t\\hline\n",
       "\t& Symbol & Union… & Any & Union… & Any & Union… & Nothing & DataType\\\\\n",
       "\t\\hline\n",
       "\t1 & plate &  & a &  & x & 24 &  & String \\\\\n",
       "\t2 & sample &  & A &  & F & 6 &  & String \\\\\n",
       "\t3 & diameter & 22.9722 & 18 & 23.0 & 27 &  &  & Int8 \\\\\n",
       "\\end{tabular}\n"
      ],
      "text/plain": [
       "3×8 DataFrame. Omitted printing of 1 columns\n",
       "│ Row │ variable │ mean    │ min │ median │ max │ nunique │ nmissing │\n",
       "│     │ \u001b[90mSymbol\u001b[39m   │ \u001b[90mUnion…\u001b[39m  │ \u001b[90mAny\u001b[39m │ \u001b[90mUnion…\u001b[39m │ \u001b[90mAny\u001b[39m │ \u001b[90mUnion…\u001b[39m  │ \u001b[90mNothing\u001b[39m  │\n",
       "├─────┼──────────┼─────────┼─────┼────────┼─────┼─────────┼──────────┤\n",
       "│ 1   │ plate    │         │ a   │        │ x   │ 24      │          │\n",
       "│ 2   │ sample   │         │ A   │        │ F   │ 6       │          │\n",
       "│ 3   │ diameter │ 22.9722 │ 18  │ 23.0   │ 27  │         │          │"
      ]
     },
     "execution_count": 31,
     "metadata": {},
     "output_type": "execute_result"
    }
   ],
   "source": [
    "penicillin = dataset(:penicillin)\n",
    "describe(penicillin)"
   ]
  },
  {
   "cell_type": "code",
   "execution_count": 32,
   "metadata": {},
   "outputs": [
    {
     "data": {
      "text/plain": [
       "Linear mixed model fit by maximum likelihood\n",
       " diameter ~ 1 + (1 | plate) + (1 | sample)\n",
       "   logLik   -2 logLik     AIC        BIC    \n",
       " -166.09417  332.18835  340.18835  352.06760\n",
       "\n",
       "Variance components:\n",
       "            Column    Variance   Std.Dev. \n",
       "plate    (Intercept)  0.71497949 0.8455646\n",
       "sample   (Intercept)  3.13519360 1.7706478\n",
       "Residual              0.30242640 0.5499331\n",
       " Number of obs: 144; levels of grouping factors: 24, 6\n",
       "\n",
       "  Fixed-effects parameters:\n",
       "──────────────────────────────────────────────────\n",
       "             Estimate  Std.Error  z value  P(>|z|)\n",
       "──────────────────────────────────────────────────\n",
       "(Intercept)   22.9722   0.744596    30.85   <1e-99\n",
       "──────────────────────────────────────────────────"
      ]
     },
     "execution_count": 32,
     "metadata": {},
     "output_type": "execute_result"
    }
   ],
   "source": [
    "fm2 = fit(MixedModel, @formula(diameter ~ 1 + (1|plate) + (1|sample)), penicillin)"
   ]
  },
  {
   "cell_type": "markdown",
   "metadata": {},
   "source": [
    "The $\\theta$ parameter for this model is two-dimensional"
   ]
  },
  {
   "cell_type": "code",
   "execution_count": 33,
   "metadata": {},
   "outputs": [
    {
     "data": {
      "text/plain": [
       "2-element Array{Float64,1}:\n",
       " 1.5375772433917159\n",
       " 3.219751343843134"
      ]
     },
     "execution_count": 33,
     "metadata": {},
     "output_type": "execute_result"
    }
   ],
   "source": [
    "θ = fm2.θ"
   ]
  },
  {
   "cell_type": "code",
   "execution_count": 34,
   "metadata": {},
   "outputs": [
    {
     "data": {
      "text/plain": [
       "32×32 Array{Float64,2}:\n",
       "  3.89678   0.0       0.0       0.0      …   0.0       0.0       0.0\n",
       "  0.0       3.89678   0.0       0.0          0.0       0.0       0.0\n",
       "  0.0       0.0       3.89678   0.0          0.0       0.0       0.0\n",
       "  0.0       0.0       0.0       3.89678      0.0       0.0       0.0\n",
       "  0.0       0.0       0.0       0.0          0.0       0.0       0.0\n",
       "  0.0       0.0       0.0       0.0      …   0.0       0.0       0.0\n",
       "  0.0       0.0       0.0       0.0          0.0       0.0       0.0\n",
       "  0.0       0.0       0.0       0.0          0.0       0.0       0.0\n",
       "  0.0       0.0       0.0       0.0          0.0       0.0       0.0\n",
       "  0.0       0.0       0.0       0.0          0.0       0.0       0.0\n",
       "  0.0       0.0       0.0       0.0      …   0.0       0.0       0.0\n",
       "  0.0       0.0       0.0       0.0          0.0       0.0       0.0\n",
       "  0.0       0.0       0.0       0.0          0.0       0.0       0.0\n",
       "  ⋮                                      ⋱             ⋮         \n",
       "  0.0       0.0       0.0       0.0      …   0.0       0.0       0.0\n",
       "  0.0       0.0       0.0       0.0          0.0       0.0       0.0\n",
       "  0.0       0.0       0.0       0.0          0.0       0.0       0.0\n",
       "  0.0       0.0       0.0       0.0          0.0       0.0       0.0\n",
       "  1.27044   1.27044   1.27044   1.27044      0.0       0.0       0.0\n",
       "  1.27044   1.27044   1.27044   1.27044  …   0.0       0.0       0.0\n",
       "  1.27044   1.27044   1.27044   1.27044      0.0       0.0       0.0\n",
       "  1.27044   1.27044   1.27044   1.27044      0.0       0.0       0.0\n",
       "  1.27044   1.27044   1.27044   1.27044      0.0       0.0       0.0\n",
       "  1.27044   1.27044   1.27044   1.27044      8.79674   0.0       0.0\n",
       "  2.36746   2.36746   2.36746   2.36746  …   2.57496   0.738566  0.0\n",
       " 56.4245   56.4245   54.8462   55.2407      50.9513   16.9665    6.5992"
      ]
     },
     "execution_count": 34,
     "metadata": {},
     "output_type": "execute_result"
    }
   ],
   "source": [
    "L = MixedModels.copyltri(fm2.L)"
   ]
  },
  {
   "cell_type": "code",
   "execution_count": 35,
   "metadata": {},
   "outputs": [
    {
     "data": {
      "text/plain": [
       "32×32 Diagonal{Float64,Array{Float64,1}}:\n",
       " 1.53758   ⋅        ⋅        ⋅       …   ⋅        ⋅        ⋅        ⋅    ⋅ \n",
       "  ⋅       1.53758   ⋅        ⋅           ⋅        ⋅        ⋅        ⋅    ⋅ \n",
       "  ⋅        ⋅       1.53758   ⋅           ⋅        ⋅        ⋅        ⋅    ⋅ \n",
       "  ⋅        ⋅        ⋅       1.53758      ⋅        ⋅        ⋅        ⋅    ⋅ \n",
       "  ⋅        ⋅        ⋅        ⋅           ⋅        ⋅        ⋅        ⋅    ⋅ \n",
       "  ⋅        ⋅        ⋅        ⋅       …   ⋅        ⋅        ⋅        ⋅    ⋅ \n",
       "  ⋅        ⋅        ⋅        ⋅           ⋅        ⋅        ⋅        ⋅    ⋅ \n",
       "  ⋅        ⋅        ⋅        ⋅           ⋅        ⋅        ⋅        ⋅    ⋅ \n",
       "  ⋅        ⋅        ⋅        ⋅           ⋅        ⋅        ⋅        ⋅    ⋅ \n",
       "  ⋅        ⋅        ⋅        ⋅           ⋅        ⋅        ⋅        ⋅    ⋅ \n",
       "  ⋅        ⋅        ⋅        ⋅       …   ⋅        ⋅        ⋅        ⋅    ⋅ \n",
       "  ⋅        ⋅        ⋅        ⋅           ⋅        ⋅        ⋅        ⋅    ⋅ \n",
       "  ⋅        ⋅        ⋅        ⋅           ⋅        ⋅        ⋅        ⋅    ⋅ \n",
       " ⋮                                   ⋱                             ⋮    \n",
       "  ⋅        ⋅        ⋅        ⋅       …   ⋅        ⋅        ⋅        ⋅    ⋅ \n",
       "  ⋅        ⋅        ⋅        ⋅           ⋅        ⋅        ⋅        ⋅    ⋅ \n",
       "  ⋅        ⋅        ⋅        ⋅           ⋅        ⋅        ⋅        ⋅    ⋅ \n",
       "  ⋅        ⋅        ⋅        ⋅           ⋅        ⋅        ⋅        ⋅    ⋅ \n",
       "  ⋅        ⋅        ⋅        ⋅           ⋅        ⋅        ⋅        ⋅    ⋅ \n",
       "  ⋅        ⋅        ⋅        ⋅       …   ⋅        ⋅        ⋅        ⋅    ⋅ \n",
       "  ⋅        ⋅        ⋅        ⋅           ⋅        ⋅        ⋅        ⋅    ⋅ \n",
       "  ⋅        ⋅        ⋅        ⋅          3.21975   ⋅        ⋅        ⋅    ⋅ \n",
       "  ⋅        ⋅        ⋅        ⋅           ⋅       3.21975   ⋅        ⋅    ⋅ \n",
       "  ⋅        ⋅        ⋅        ⋅           ⋅        ⋅       3.21975   ⋅    ⋅ \n",
       "  ⋅        ⋅        ⋅        ⋅       …   ⋅        ⋅        ⋅       1.0   ⋅ \n",
       "  ⋅        ⋅        ⋅        ⋅           ⋅        ⋅        ⋅        ⋅   1.0"
      ]
     },
     "execution_count": 35,
     "metadata": {},
     "output_type": "execute_result"
    }
   ],
   "source": [
    "Λ = Diagonal(vcat(fill(first(θ), 24), fill(last(θ), 6), ones(2)))"
   ]
  },
  {
   "cell_type": "code",
   "execution_count": 36,
   "metadata": {},
   "outputs": [
    {
     "data": {
      "text/plain": [
       "32×32 Array{Float64,2}:\n",
       "   6.0    0.0    0.0    0.0    0.0    0.0  …    1.0    1.0     6.0    143.0\n",
       "   0.0    6.0    0.0    0.0    0.0    0.0       1.0    1.0     6.0    143.0\n",
       "   0.0    0.0    6.0    0.0    0.0    0.0       1.0    1.0     6.0    139.0\n",
       "   0.0    0.0    0.0    6.0    0.0    0.0       1.0    1.0     6.0    140.0\n",
       "   0.0    0.0    0.0    0.0    6.0    0.0       1.0    1.0     6.0    138.0\n",
       "   0.0    0.0    0.0    0.0    0.0    6.0  …    1.0    1.0     6.0    135.0\n",
       "   0.0    0.0    0.0    0.0    0.0    0.0       1.0    1.0     6.0    129.0\n",
       "   0.0    0.0    0.0    0.0    0.0    0.0       1.0    1.0     6.0    143.0\n",
       "   0.0    0.0    0.0    0.0    0.0    0.0       1.0    1.0     6.0    133.0\n",
       "   0.0    0.0    0.0    0.0    0.0    0.0       1.0    1.0     6.0    133.0\n",
       "   0.0    0.0    0.0    0.0    0.0    0.0  …    1.0    1.0     6.0    144.0\n",
       "   0.0    0.0    0.0    0.0    0.0    0.0       1.0    1.0     6.0    141.0\n",
       "   0.0    0.0    0.0    0.0    0.0    0.0       1.0    1.0     6.0    147.0\n",
       "   ⋮                                  ⋮    ⋱                   ⋮    \n",
       "   0.0    0.0    0.0    0.0    0.0    0.0  …    1.0    1.0     6.0    132.0\n",
       "   0.0    0.0    0.0    0.0    0.0    0.0       1.0    1.0     6.0    136.0\n",
       "   0.0    0.0    0.0    0.0    0.0    0.0       1.0    1.0     6.0    134.0\n",
       "   0.0    0.0    0.0    0.0    0.0    0.0       1.0    1.0     6.0    130.0\n",
       "   1.0    1.0    1.0    1.0    1.0    1.0       0.0    0.0    24.0    604.0\n",
       "   1.0    1.0    1.0    1.0    1.0    1.0  …    0.0    0.0    24.0    527.0\n",
       "   1.0    1.0    1.0    1.0    1.0    1.0       0.0    0.0    24.0    598.0\n",
       "   1.0    1.0    1.0    1.0    1.0    1.0       0.0    0.0    24.0    549.0\n",
       "   1.0    1.0    1.0    1.0    1.0    1.0      24.0    0.0    24.0    551.0\n",
       "   1.0    1.0    1.0    1.0    1.0    1.0       0.0   24.0    24.0    479.0\n",
       "   6.0    6.0    6.0    6.0    6.0    6.0  …   24.0   24.0   144.0   3308.0\n",
       " 143.0  143.0  139.0  140.0  138.0  135.0     551.0  479.0  3308.0  76582.0"
      ]
     },
     "execution_count": 36,
     "metadata": {},
     "output_type": "execute_result"
    }
   ],
   "source": [
    "A = Matrix(Symmetric(MixedModels.copyltri(fm2.A), :L))"
   ]
  },
  {
   "cell_type": "markdown",
   "metadata": {},
   "source": [
    "The first element of the gradient is evaluated from"
   ]
  },
  {
   "cell_type": "code",
   "execution_count": 37,
   "metadata": {},
   "outputs": [
    {
     "data": {
      "text/plain": [
       "32×32 Array{Float64,2}:\n",
       "  18.4509     0.0        0.0        0.0      …  3.21975  3.21975  6.0  143.0\n",
       "   0.0       18.4509     0.0        0.0         3.21975  3.21975  6.0  143.0\n",
       "   0.0        0.0       18.4509     0.0         3.21975  3.21975  6.0  139.0\n",
       "   0.0        0.0        0.0       18.4509      3.21975  3.21975  6.0  140.0\n",
       "   0.0        0.0        0.0        0.0         3.21975  3.21975  6.0  138.0\n",
       "   0.0        0.0        0.0        0.0      …  3.21975  3.21975  6.0  135.0\n",
       "   0.0        0.0        0.0        0.0         3.21975  3.21975  6.0  129.0\n",
       "   0.0        0.0        0.0        0.0         3.21975  3.21975  6.0  143.0\n",
       "   0.0        0.0        0.0        0.0         3.21975  3.21975  6.0  133.0\n",
       "   0.0        0.0        0.0        0.0         3.21975  3.21975  6.0  133.0\n",
       "   0.0        0.0        0.0        0.0      …  3.21975  3.21975  6.0  144.0\n",
       "   0.0        0.0        0.0        0.0         3.21975  3.21975  6.0  141.0\n",
       "   0.0        0.0        0.0        0.0         3.21975  3.21975  6.0  147.0\n",
       "   ⋮                                         ⋱                    ⋮    \n",
       "   0.0        0.0        0.0        0.0      …  3.21975  3.21975  6.0  132.0\n",
       "   0.0        0.0        0.0        0.0         3.21975  3.21975  6.0  136.0\n",
       "   0.0        0.0        0.0        0.0         3.21975  3.21975  6.0  134.0\n",
       "   0.0        0.0        0.0        0.0         3.21975  3.21975  6.0  130.0\n",
       "   3.21975    3.21975    3.21975    3.21975     0.0      0.0      0.0    0.0\n",
       "   3.21975    3.21975    3.21975    3.21975  …  0.0      0.0      0.0    0.0\n",
       "   3.21975    3.21975    3.21975    3.21975     0.0      0.0      0.0    0.0\n",
       "   3.21975    3.21975    3.21975    3.21975     0.0      0.0      0.0    0.0\n",
       "   3.21975    3.21975    3.21975    3.21975     0.0      0.0      0.0    0.0\n",
       "   3.21975    3.21975    3.21975    3.21975     0.0      0.0      0.0    0.0\n",
       "   6.0        6.0        6.0        6.0      …  0.0      0.0      0.0    0.0\n",
       " 143.0      143.0      139.0      140.0         0.0      0.0      0.0    0.0"
      ]
     },
     "execution_count": 37,
     "metadata": {},
     "output_type": "execute_result"
    }
   ],
   "source": [
    "Λ̇ = Diagonal(vcat(trues(24), falses(8)))\n",
    "Σ̇ = Λ̇'A*Λ+Λ'A*Λ̇"
   ]
  },
  {
   "cell_type": "code",
   "execution_count": 38,
   "metadata": {},
   "outputs": [
    {
     "data": {
      "text/plain": [
       "32×32 Array{Float64,2}:\n",
       " 2.36746    0.0        0.0        …    0.0       0.0         0.0\n",
       " 0.0        2.36746    0.0             0.0       0.0         0.0\n",
       " 0.0        0.0        2.36746         0.0       0.0         0.0\n",
       " 0.0        0.0        0.0             0.0       0.0         0.0\n",
       " 0.0        0.0        0.0             0.0       0.0         0.0\n",
       " 0.0        0.0        0.0        …    0.0       0.0         0.0\n",
       " 0.0        0.0        0.0             0.0       0.0         0.0\n",
       " 0.0        0.0        0.0             0.0       0.0         0.0\n",
       " 0.0        0.0        0.0             0.0       0.0         0.0\n",
       " 0.0        0.0        0.0             0.0       0.0         0.0\n",
       " 0.0        0.0        0.0        …    0.0       0.0         0.0\n",
       " 0.0        0.0        0.0             0.0       0.0         0.0\n",
       " 0.0        0.0        0.0             0.0       0.0         0.0\n",
       " ⋮                                ⋱              ⋮          \n",
       " 0.0        0.0        0.0        …    0.0       0.0         0.0\n",
       " 0.0        0.0        0.0             0.0       0.0         0.0\n",
       " 0.0        0.0        0.0             0.0       0.0         0.0\n",
       " 0.0        0.0        0.0             0.0       0.0         0.0\n",
       " 0.0544134  0.0544134  0.0544134       0.0       0.0         0.0\n",
       " 0.0544134  0.0544134  0.0544134  …    0.0       0.0         0.0\n",
       " 0.0544134  0.0544134  0.0544134       0.0       0.0         0.0\n",
       " 0.0544134  0.0544134  0.0544134       0.0       0.0         0.0\n",
       " 0.0544134  0.0544134  0.0544134       0.0       0.0         0.0\n",
       " 0.0544134  0.0544134  0.0544134      -3.73671   0.0         0.0\n",
       " 0.101399   0.101399   0.101399   …   -1.27377  -0.0258103   0.0\n",
       " 2.41668    2.41668    2.34908       -25.7776   -0.59292    -0.641986"
      ]
     },
     "execution_count": 38,
     "metadata": {},
     "output_type": "execute_result"
    }
   ],
   "source": [
    "L̇ = MixedModels.chol_unblocked_fwd(Matrix(LowerTriangular(Σ̇)), L)"
   ]
  },
  {
   "cell_type": "code",
   "execution_count": 39,
   "metadata": {},
   "outputs": [
    {
     "data": {
      "text/plain": [
       "-0.00046524874183973"
      ]
     },
     "execution_count": 39,
     "metadata": {},
     "output_type": "execute_result"
    }
   ],
   "source": [
    "ḟ = 2dot(diag(L̇), vcat(ones(30), 0, 144) ./ diag(L))"
   ]
  },
  {
   "cell_type": "markdown",
   "metadata": {},
   "source": [
    "The second element of the gradient is evaluated from"
   ]
  },
  {
   "cell_type": "code",
   "execution_count": 40,
   "metadata": {},
   "outputs": [
    {
     "data": {
      "text/plain": [
       "32×32 Array{Float64,2}:\n",
       " 0.0      0.0      0.0      0.0      …    1.53758    1.53758   0.0    0.0\n",
       " 0.0      0.0      0.0      0.0           1.53758    1.53758   0.0    0.0\n",
       " 0.0      0.0      0.0      0.0           1.53758    1.53758   0.0    0.0\n",
       " 0.0      0.0      0.0      0.0           1.53758    1.53758   0.0    0.0\n",
       " 0.0      0.0      0.0      0.0           1.53758    1.53758   0.0    0.0\n",
       " 0.0      0.0      0.0      0.0      …    1.53758    1.53758   0.0    0.0\n",
       " 0.0      0.0      0.0      0.0           1.53758    1.53758   0.0    0.0\n",
       " 0.0      0.0      0.0      0.0           1.53758    1.53758   0.0    0.0\n",
       " 0.0      0.0      0.0      0.0           1.53758    1.53758   0.0    0.0\n",
       " 0.0      0.0      0.0      0.0           1.53758    1.53758   0.0    0.0\n",
       " 0.0      0.0      0.0      0.0      …    1.53758    1.53758   0.0    0.0\n",
       " 0.0      0.0      0.0      0.0           1.53758    1.53758   0.0    0.0\n",
       " 0.0      0.0      0.0      0.0           1.53758    1.53758   0.0    0.0\n",
       " ⋮                                   ⋱                         ⋮    \n",
       " 0.0      0.0      0.0      0.0      …    1.53758    1.53758   0.0    0.0\n",
       " 0.0      0.0      0.0      0.0           1.53758    1.53758   0.0    0.0\n",
       " 0.0      0.0      0.0      0.0           1.53758    1.53758   0.0    0.0\n",
       " 0.0      0.0      0.0      0.0           1.53758    1.53758   0.0    0.0\n",
       " 1.53758  1.53758  1.53758  1.53758       0.0        0.0      24.0  604.0\n",
       " 1.53758  1.53758  1.53758  1.53758  …    0.0        0.0      24.0  527.0\n",
       " 1.53758  1.53758  1.53758  1.53758       0.0        0.0      24.0  598.0\n",
       " 1.53758  1.53758  1.53758  1.53758       0.0        0.0      24.0  549.0\n",
       " 1.53758  1.53758  1.53758  1.53758     154.548      0.0      24.0  551.0\n",
       " 1.53758  1.53758  1.53758  1.53758       0.0      154.548    24.0  479.0\n",
       " 0.0      0.0      0.0      0.0      …   24.0       24.0       0.0    0.0\n",
       " 0.0      0.0      0.0      0.0         551.0      479.0       0.0    0.0"
      ]
     },
     "execution_count": 40,
     "metadata": {},
     "output_type": "execute_result"
    }
   ],
   "source": [
    "Λ̇ = Diagonal(vcat(falses(24), trues(6), falses(2)))\n",
    "Σ̇ = Λ̇'A*Λ + Λ'A*Λ̇"
   ]
  },
  {
   "cell_type": "code",
   "execution_count": 41,
   "metadata": {},
   "outputs": [
    {
     "data": {
      "text/plain": [
       "32×32 Array{Float64,2}:\n",
       " 0.0       0.0       0.0       0.0       …  0.0         0.0        0.0\n",
       " 0.0       0.0       0.0       0.0          0.0         0.0        0.0\n",
       " 0.0       0.0       0.0       0.0          0.0         0.0        0.0\n",
       " 0.0       0.0       0.0       0.0          0.0         0.0        0.0\n",
       " 0.0       0.0       0.0       0.0          0.0         0.0        0.0\n",
       " 0.0       0.0       0.0       0.0       …  0.0         0.0        0.0\n",
       " 0.0       0.0       0.0       0.0          0.0         0.0        0.0\n",
       " 0.0       0.0       0.0       0.0          0.0         0.0        0.0\n",
       " 0.0       0.0       0.0       0.0          0.0         0.0        0.0\n",
       " 0.0       0.0       0.0       0.0          0.0         0.0        0.0\n",
       " 0.0       0.0       0.0       0.0       …  0.0         0.0        0.0\n",
       " 0.0       0.0       0.0       0.0          0.0         0.0        0.0\n",
       " 0.0       0.0       0.0       0.0          0.0         0.0        0.0\n",
       " ⋮                                       ⋱              ⋮         \n",
       " 0.0       0.0       0.0       0.0       …  0.0         0.0        0.0\n",
       " 0.0       0.0       0.0       0.0          0.0         0.0        0.0\n",
       " 0.0       0.0       0.0       0.0          0.0         0.0        0.0\n",
       " 0.0       0.0       0.0       0.0          0.0         0.0        0.0\n",
       " 0.394577  0.394577  0.394577  0.394577     0.0         0.0        0.0\n",
       " 0.394577  0.394577  0.394577  0.394577  …  0.0         0.0        0.0\n",
       " 0.394577  0.394577  0.394577  0.394577     0.0         0.0        0.0\n",
       " 0.394577  0.394577  0.394577  0.394577     0.0         0.0        0.0\n",
       " 0.394577  0.394577  0.394577  0.394577     0.0         0.0        0.0\n",
       " 0.394577  0.394577  0.394577  0.394577     2.61271     0.0        0.0\n",
       " 0.0       0.0       0.0       0.0       …  0.0570506  -0.216191   0.0\n",
       " 0.0       0.0       0.0       0.0          1.40151    -4.9664    -0.0842962"
      ]
     },
     "execution_count": 41,
     "metadata": {},
     "output_type": "execute_result"
    }
   ],
   "source": [
    "L̇ = MixedModels.chol_unblocked_fwd(Matrix(LowerTriangular(Σ̇)), L)"
   ]
  },
  {
   "cell_type": "code",
   "execution_count": 42,
   "metadata": {},
   "outputs": [
    {
     "data": {
      "text/plain": [
       "6.920586637315651e-6"
      ]
     },
     "execution_count": 42,
     "metadata": {},
     "output_type": "execute_result"
    }
   ],
   "source": [
    "ḟ = 2dot(diag(L̇), vcat(ones(30), 0, 144) ./ diag(L))"
   ]
  },
  {
   "cell_type": "markdown",
   "metadata": {},
   "source": [
    "## Models with vector-valued random effects\n",
    "\n",
    "Based on our favorite model fit to the `sleepstudy` data"
   ]
  },
  {
   "cell_type": "code",
   "execution_count": 43,
   "metadata": {},
   "outputs": [
    {
     "data": {
      "text/plain": [
       "Linear mixed model fit by maximum likelihood\n",
       " reaction ~ 1 + days + (1 + days | subj)\n",
       "   logLik   -2 logLik     AIC        BIC    \n",
       " -875.96967 1751.93934 1763.93934 1783.09709\n",
       "\n",
       "Variance components:\n",
       "            Column    Variance  Std.Dev.   Corr.\n",
       "subj     (Intercept)  565.51068 23.780469\n",
       "         days          32.68212  5.716828 +0.08\n",
       "Residual              654.94145 25.591824\n",
       " Number of obs: 180; levels of grouping factors: 18\n",
       "\n",
       "  Fixed-effects parameters:\n",
       "──────────────────────────────────────────────────\n",
       "             Estimate  Std.Error  z value  P(>|z|)\n",
       "──────────────────────────────────────────────────\n",
       "(Intercept)  251.405     6.63226    37.91   <1e-99\n",
       "days          10.4673    1.50224     6.97   <1e-11\n",
       "──────────────────────────────────────────────────"
      ]
     },
     "execution_count": 43,
     "metadata": {},
     "output_type": "execute_result"
    }
   ],
   "source": [
    "sleepstudy = dataset(:sleepstudy)\n",
    "fm3 = fit(MixedModel, @formula(reaction ~ 1 + days + (1+days|subj)), sleepstudy)"
   ]
  },
  {
   "cell_type": "code",
   "execution_count": 44,
   "metadata": {},
   "outputs": [
    {
     "data": {
      "text/plain": [
       "39×39 Array{Float64,2}:\n",
       "    3.35381    0.0         0.0      …     0.0        0.0       0.0\n",
       "    3.11966    2.32279     0.0            0.0        0.0       0.0\n",
       "    0.0        0.0         3.35381        0.0        0.0       0.0\n",
       "    0.0        0.0         3.11966        0.0        0.0       0.0\n",
       "    0.0        0.0         0.0            0.0        0.0       0.0\n",
       "    0.0        0.0         0.0      …     0.0        0.0       0.0\n",
       "    0.0        0.0         0.0            0.0        0.0       0.0\n",
       "    0.0        0.0         0.0            0.0        0.0       0.0\n",
       "    0.0        0.0         0.0            0.0        0.0       0.0\n",
       "    0.0        0.0         0.0            0.0        0.0       0.0\n",
       "    0.0        0.0         0.0      …     0.0        0.0       0.0\n",
       "    0.0        0.0         0.0            0.0        0.0       0.0\n",
       "    0.0        0.0         0.0            0.0        0.0       0.0\n",
       "    ⋮                               ⋱                        \n",
       "    0.0        0.0         0.0            0.0        0.0       0.0\n",
       "    0.0        0.0         0.0            0.0        0.0       0.0\n",
       "    0.0        0.0         0.0            0.0        0.0       0.0\n",
       "    0.0        0.0         0.0      …     0.0        0.0       0.0\n",
       "    0.0        0.0         0.0            0.0        0.0       0.0\n",
       "    0.0        0.0         0.0            0.0        0.0       0.0\n",
       "    0.0        0.0         0.0            0.0        0.0       0.0\n",
       "    0.0        0.0         0.0            0.0        0.0       0.0\n",
       "    0.0        0.0         0.0      …     0.0        0.0       0.0\n",
       "    3.01442    0.264786    3.01442        3.89572    0.0       0.0\n",
       "   14.0118     8.49909    14.0118         2.36568   17.0358    0.0\n",
       " 1041.06     249.639     649.814       1004.17     178.319   343.35"
      ]
     },
     "execution_count": 44,
     "metadata": {},
     "output_type": "execute_result"
    }
   ],
   "source": [
    "L = MixedModels.copyltri(fm3.L)"
   ]
  },
  {
   "cell_type": "code",
   "execution_count": 45,
   "metadata": {},
   "outputs": [
    {
     "data": {
      "text/plain": [
       "39×39 Array{Float64,2}:\n",
       "   10.0      45.0     0.0      0.0   …     10.0      45.0    3421.34\n",
       "   45.0     285.0     0.0      0.0         45.0     285.0   17191.6\n",
       "    0.0       0.0    10.0     45.0         10.0      45.0    2152.33\n",
       "    0.0       0.0    45.0    285.0         45.0     285.0    9872.08\n",
       "    0.0       0.0     0.0      0.0         10.0      45.0    2310.01\n",
       "    0.0       0.0     0.0      0.0   …     45.0     285.0   10899.5\n",
       "    0.0       0.0     0.0      0.0         10.0      45.0    3032.21\n",
       "    0.0       0.0     0.0      0.0         45.0     285.0   13893.1\n",
       "    0.0       0.0     0.0      0.0         10.0      45.0    3094.36\n",
       "    0.0       0.0     0.0      0.0         45.0     285.0   14359.1\n",
       "    0.0       0.0     0.0      0.0   …     10.0      45.0    3073.02\n",
       "    0.0       0.0     0.0      0.0         45.0     285.0   14617.9\n",
       "    0.0       0.0     0.0      0.0         10.0      45.0    3161.58\n",
       "    ⋮                                ⋱                     \n",
       "    0.0       0.0     0.0      0.0         45.0     285.0   16303.2\n",
       "    0.0       0.0     0.0      0.0         10.0      45.0    3060.35\n",
       "    0.0       0.0     0.0      0.0         45.0     285.0   14707.8\n",
       "    0.0       0.0     0.0      0.0   …     10.0      45.0    2917.02\n",
       "    0.0       0.0     0.0      0.0         45.0     285.0   14616.2\n",
       "    0.0       0.0     0.0      0.0         10.0      45.0    2949.84\n",
       "    0.0       0.0     0.0      0.0         45.0     285.0   14032.3\n",
       "    0.0       0.0     0.0      0.0         10.0      45.0    3178.86\n",
       "    0.0       0.0     0.0      0.0   …     45.0     285.0   15237.0\n",
       "   10.0      45.0    10.0     45.0        180.0     810.0   53731.4\n",
       "   45.0     285.0    45.0    285.0        810.0    5130.0  257335.0\n",
       " 3421.34  17191.6  2152.33  9872.08     53731.4  257335.0       1.66072e7"
      ]
     },
     "execution_count": 45,
     "metadata": {},
     "output_type": "execute_result"
    }
   ],
   "source": [
    "A = Matrix(Symmetric(MixedModels.copyltri(fm3.A), :L))"
   ]
  },
  {
   "cell_type": "markdown",
   "metadata": {},
   "source": [
    "For the first element of"
   ]
  },
  {
   "cell_type": "code",
   "execution_count": 46,
   "metadata": {},
   "outputs": [
    {
     "data": {
      "text/plain": [
       "3-element Array{Float64,1}:\n",
       " 0.9292213238823973\n",
       " 0.018168399088001212\n",
       " 0.22264486437568012"
      ]
     },
     "execution_count": 46,
     "metadata": {},
     "output_type": "execute_result"
    }
   ],
   "source": [
    "θ = fm3.θ"
   ]
  },
  {
   "cell_type": "code",
   "execution_count": 47,
   "metadata": {},
   "outputs": [],
   "source": [
    "using BlockDiagonals"
   ]
  },
  {
   "cell_type": "code",
   "execution_count": 48,
   "metadata": {},
   "outputs": [
    {
     "data": {
      "text/plain": [
       "39×39 BlockDiagonal{Float64,AbstractArray{Float64,2}}:\n",
       " 0.929221   0.0       0.0        …  0.0        0.0       0.0  0.0  0.0\n",
       " 0.0181684  0.222645  0.0           0.0        0.0       0.0  0.0  0.0\n",
       " 0.0        0.0       0.929221      0.0        0.0       0.0  0.0  0.0\n",
       " 0.0        0.0       0.0181684     0.0        0.0       0.0  0.0  0.0\n",
       " 0.0        0.0       0.0           0.0        0.0       0.0  0.0  0.0\n",
       " 0.0        0.0       0.0        …  0.0        0.0       0.0  0.0  0.0\n",
       " 0.0        0.0       0.0           0.0        0.0       0.0  0.0  0.0\n",
       " 0.0        0.0       0.0           0.0        0.0       0.0  0.0  0.0\n",
       " 0.0        0.0       0.0           0.0        0.0       0.0  0.0  0.0\n",
       " 0.0        0.0       0.0           0.0        0.0       0.0  0.0  0.0\n",
       " 0.0        0.0       0.0        …  0.0        0.0       0.0  0.0  0.0\n",
       " 0.0        0.0       0.0           0.0        0.0       0.0  0.0  0.0\n",
       " 0.0        0.0       0.0           0.0        0.0       0.0  0.0  0.0\n",
       " ⋮                               ⋱             ⋮                   \n",
       " 0.0        0.0       0.0           0.0        0.0       0.0  0.0  0.0\n",
       " 0.0        0.0       0.0           0.0        0.0       0.0  0.0  0.0\n",
       " 0.0        0.0       0.0           0.0        0.0       0.0  0.0  0.0\n",
       " 0.0        0.0       0.0        …  0.0        0.0       0.0  0.0  0.0\n",
       " 0.0        0.0       0.0           0.0        0.0       0.0  0.0  0.0\n",
       " 0.0        0.0       0.0           0.0        0.0       0.0  0.0  0.0\n",
       " 0.0        0.0       0.0           0.0        0.0       0.0  0.0  0.0\n",
       " 0.0        0.0       0.0           0.929221   0.0       0.0  0.0  0.0\n",
       " 0.0        0.0       0.0        …  0.0181684  0.222645  0.0  0.0  0.0\n",
       " 0.0        0.0       0.0           0.0        0.0       1.0  0.0  0.0\n",
       " 0.0        0.0       0.0           0.0        0.0       0.0  1.0  0.0\n",
       " 0.0        0.0       0.0           0.0        0.0       0.0  0.0  1.0"
      ]
     },
     "execution_count": 48,
     "metadata": {},
     "output_type": "execute_result"
    }
   ],
   "source": [
    "Λ = BlockDiagonal([Matrix(BlockDiagonal(fill(first(fm3.λ).data, 18))), Diagonal(ones(3))])"
   ]
  },
  {
   "cell_type": "code",
   "execution_count": 49,
   "metadata": {},
   "outputs": [
    {
     "data": {
      "text/plain": [
       "39×39 Array{Float64,2}:\n",
       "   20.2196  10.019     0.0      0.0    …   0.0    10.0  45.0  3421.34\n",
       "   10.019    0.0       0.0      0.0        0.0     0.0   0.0     0.0\n",
       "    0.0      0.0      20.2196  10.019      0.0    10.0  45.0  2152.33\n",
       "    0.0      0.0      10.019    0.0        0.0     0.0   0.0     0.0\n",
       "    0.0      0.0       0.0      0.0        0.0    10.0  45.0  2310.01\n",
       "    0.0      0.0       0.0      0.0    …   0.0     0.0   0.0     0.0\n",
       "    0.0      0.0       0.0      0.0        0.0    10.0  45.0  3032.21\n",
       "    0.0      0.0       0.0      0.0        0.0     0.0   0.0     0.0\n",
       "    0.0      0.0       0.0      0.0        0.0    10.0  45.0  3094.36\n",
       "    0.0      0.0       0.0      0.0        0.0     0.0   0.0     0.0\n",
       "    0.0      0.0       0.0      0.0    …   0.0    10.0  45.0  3073.02\n",
       "    0.0      0.0       0.0      0.0        0.0     0.0   0.0     0.0\n",
       "    0.0      0.0       0.0      0.0        0.0    10.0  45.0  3161.58\n",
       "    ⋮                                  ⋱   ⋮                  \n",
       "    0.0      0.0       0.0      0.0        0.0     0.0   0.0     0.0\n",
       "    0.0      0.0       0.0      0.0        0.0    10.0  45.0  3060.35\n",
       "    0.0      0.0       0.0      0.0        0.0     0.0   0.0     0.0\n",
       "    0.0      0.0       0.0      0.0    …   0.0    10.0  45.0  2917.02\n",
       "    0.0      0.0       0.0      0.0        0.0     0.0   0.0     0.0\n",
       "    0.0      0.0       0.0      0.0        0.0    10.0  45.0  2949.84\n",
       "    0.0      0.0       0.0      0.0        0.0     0.0   0.0     0.0\n",
       "    0.0      0.0       0.0      0.0       10.019  10.0  45.0  3178.86\n",
       "    0.0      0.0       0.0      0.0    …   0.0     0.0   0.0     0.0\n",
       "   10.0      0.0      10.0      0.0        0.0     0.0   0.0     0.0\n",
       "   45.0      0.0      45.0      0.0        0.0     0.0   0.0     0.0\n",
       " 3421.34     0.0    2152.33     0.0        0.0     0.0   0.0     0.0"
      ]
     },
     "execution_count": 49,
     "metadata": {},
     "output_type": "execute_result"
    }
   ],
   "source": [
    "Λ̇ = Diagonal(vcat(repeat([true, false], outer=18), falses(3)))\n",
    "Σ̇ = Λ̇'A*Λ + Λ'A*Λ̇"
   ]
  },
  {
   "cell_type": "code",
   "execution_count": 50,
   "metadata": {},
   "outputs": [
    {
     "data": {
      "text/plain": [
       "39×39 Array{Float64,2}:\n",
       "  3.01442      0.0        0.0       …     0.0       0.0            0.0\n",
       "  0.183386    -0.2463     0.0             0.0       0.0            0.0\n",
       "  0.0          0.0        3.01442         0.0       0.0            0.0\n",
       "  0.0          0.0        0.183386        0.0       0.0            0.0\n",
       "  0.0          0.0        0.0             0.0       0.0            0.0\n",
       "  0.0          0.0        0.0       …     0.0       0.0            0.0\n",
       "  0.0          0.0        0.0             0.0       0.0            0.0\n",
       "  0.0          0.0        0.0             0.0       0.0            0.0\n",
       "  0.0          0.0        0.0             0.0       0.0            0.0\n",
       "  0.0          0.0        0.0             0.0       0.0            0.0\n",
       "  0.0          0.0        0.0       …     0.0       0.0            0.0\n",
       "  0.0          0.0        0.0             0.0       0.0            0.0\n",
       "  0.0          0.0        0.0             0.0       0.0            0.0\n",
       "  ⋮                                 ⋱                            \n",
       "  0.0          0.0        0.0             0.0       0.0            0.0\n",
       "  0.0          0.0        0.0             0.0       0.0            0.0\n",
       "  0.0          0.0        0.0             0.0       0.0            0.0\n",
       "  0.0          0.0        0.0       …     0.0       0.0            0.0\n",
       "  0.0          0.0        0.0             0.0       0.0            0.0\n",
       "  0.0          0.0        0.0             0.0       0.0            0.0\n",
       "  0.0          0.0        0.0             0.0       0.0            0.0\n",
       "  0.0          0.0        0.0             0.0       0.0            0.0\n",
       "  0.0          0.0        0.0       …     0.0       0.0            0.0\n",
       "  0.272304    -0.575636   0.272304       -3.08841   0.0            0.0\n",
       "  0.823673    -1.31128    0.823673       -3.01663   6.6734e-15     0.0\n",
       " 84.4217    -169.106     57.7003       -808.018    -1.76627e-13  -27.2199"
      ]
     },
     "execution_count": 50,
     "metadata": {},
     "output_type": "execute_result"
    }
   ],
   "source": [
    "L̇ = MixedModels.chol_unblocked_fwd(Matrix(LowerTriangular(Σ̇)), L)"
   ]
  },
  {
   "cell_type": "code",
   "execution_count": 51,
   "metadata": {},
   "outputs": [
    {
     "data": {
      "text/plain": [
       "-7.670801159065377e-5"
      ]
     },
     "execution_count": 51,
     "metadata": {},
     "output_type": "execute_result"
    }
   ],
   "source": [
    "ḟ = 2dot(diag(L̇), vcat(ones(36), zeros(2), 180) ./ diag(L))"
   ]
  },
  {
   "cell_type": "markdown",
   "metadata": {},
   "source": [
    "For the last element of $\\theta$ the gradient value is calculated from"
   ]
  },
  {
   "cell_type": "code",
   "execution_count": 52,
   "metadata": {},
   "outputs": [
    {
     "data": {
      "text/plain": [
       "39×39 Array{Float64,2}:\n",
       "  0.0       46.993   0.0       0.0    …      0.0     0.0    0.0      0.0\n",
       " 46.993    126.908   0.0       0.0           0.0    45.0  285.0  17191.6\n",
       "  0.0        0.0     0.0      46.993         0.0     0.0    0.0      0.0\n",
       "  0.0        0.0    46.993   126.908         0.0    45.0  285.0   9872.08\n",
       "  0.0        0.0     0.0       0.0           0.0     0.0    0.0      0.0\n",
       "  0.0        0.0     0.0       0.0    …      0.0    45.0  285.0  10899.5\n",
       "  0.0        0.0     0.0       0.0           0.0     0.0    0.0      0.0\n",
       "  0.0        0.0     0.0       0.0           0.0    45.0  285.0  13893.1\n",
       "  0.0        0.0     0.0       0.0           0.0     0.0    0.0      0.0\n",
       "  0.0        0.0     0.0       0.0           0.0    45.0  285.0  14359.1\n",
       "  0.0        0.0     0.0       0.0    …      0.0     0.0    0.0      0.0\n",
       "  0.0        0.0     0.0       0.0           0.0    45.0  285.0  14617.9\n",
       "  0.0        0.0     0.0       0.0           0.0     0.0    0.0      0.0\n",
       "  ⋮                                   ⋱      ⋮                   \n",
       "  0.0        0.0     0.0       0.0           0.0    45.0  285.0  16303.2\n",
       "  0.0        0.0     0.0       0.0           0.0     0.0    0.0      0.0\n",
       "  0.0        0.0     0.0       0.0           0.0    45.0  285.0  14707.8\n",
       "  0.0        0.0     0.0       0.0    …      0.0     0.0    0.0      0.0\n",
       "  0.0        0.0     0.0       0.0           0.0    45.0  285.0  14616.2\n",
       "  0.0        0.0     0.0       0.0           0.0     0.0    0.0      0.0\n",
       "  0.0        0.0     0.0       0.0           0.0    45.0  285.0  14032.3\n",
       "  0.0        0.0     0.0       0.0          46.993   0.0    0.0      0.0\n",
       "  0.0        0.0     0.0       0.0    …    126.908  45.0  285.0  15237.0\n",
       "  0.0       45.0     0.0      45.0          45.0     0.0    0.0      0.0\n",
       "  0.0      285.0     0.0     285.0         285.0     0.0    0.0      0.0\n",
       "  0.0    17191.6     0.0    9872.08      15237.0     0.0    0.0      0.0"
      ]
     },
     "execution_count": 52,
     "metadata": {},
     "output_type": "execute_result"
    }
   ],
   "source": [
    "Λ̇ =  Diagonal(vcat(repeat([false, true], outer=18), falses(3)))\n",
    "Σ̇ = Λ̇'A*Λ + Λ'A*Λ̇"
   ]
  },
  {
   "cell_type": "code",
   "execution_count": 53,
   "metadata": {},
   "outputs": [
    {
     "data": {
      "text/plain": [
       "39×39 Array{Float64,2}:\n",
       "  0.0       0.0        0.0      0.0       …     0.0          0.0        0.0\n",
       " 14.0118    8.49909    0.0      0.0             0.0          0.0        0.0\n",
       "  0.0       0.0        0.0      0.0             0.0          0.0        0.0\n",
       "  0.0       0.0       14.0118   8.49909         0.0          0.0        0.0\n",
       "  0.0       0.0        0.0      0.0             0.0          0.0        0.0\n",
       "  0.0       0.0        0.0      0.0       …     0.0          0.0        0.0\n",
       "  0.0       0.0        0.0      0.0             0.0          0.0        0.0\n",
       "  0.0       0.0        0.0      0.0             0.0          0.0        0.0\n",
       "  0.0       0.0        0.0      0.0             0.0          0.0        0.0\n",
       "  0.0       0.0        0.0      0.0             0.0          0.0        0.0\n",
       "  0.0       0.0        0.0      0.0       …     0.0          0.0        0.0\n",
       "  0.0       0.0        0.0      0.0             0.0          0.0        0.0\n",
       "  0.0       0.0        0.0      0.0             0.0          0.0        0.0\n",
       "  ⋮                                       ⋱                          \n",
       "  0.0       0.0        0.0      0.0             0.0          0.0        0.0\n",
       "  0.0       0.0        0.0      0.0             0.0          0.0        0.0\n",
       "  0.0       0.0        0.0      0.0             0.0          0.0        0.0\n",
       "  0.0       0.0        0.0      0.0       …     0.0          0.0        0.0\n",
       "  0.0       0.0        0.0      0.0             0.0          0.0        0.0\n",
       "  0.0       0.0        0.0      0.0             0.0          0.0        0.0\n",
       "  0.0       0.0        0.0      0.0             0.0          0.0        0.0\n",
       "  0.0       0.0        0.0      0.0             0.0          0.0        0.0\n",
       "  0.0       0.0        0.0      0.0       …     0.0          0.0        0.0\n",
       "  0.0       0.220425   0.0      0.220425       -0.269674     0.0        0.0\n",
       "  0.0       7.07519    0.0      7.07519       -17.1483     -61.1547     0.0\n",
       "  0.0     207.815      0.0     61.2017       -247.293     -640.124   -125.632"
      ]
     },
     "execution_count": 53,
     "metadata": {},
     "output_type": "execute_result"
    }
   ],
   "source": [
    "L̇ = MixedModels.chol_unblocked_fwd(Matrix(LowerTriangular(Σ̇)), L)"
   ]
  },
  {
   "cell_type": "code",
   "execution_count": 54,
   "metadata": {},
   "outputs": [
    {
     "data": {
      "text/plain": [
       "7.034703170916146e-5"
      ]
     },
     "execution_count": 54,
     "metadata": {},
     "output_type": "execute_result"
    }
   ],
   "source": [
    "ḟ = 2dot(diag(L̇), vcat(ones(36), zeros(2), 180) ./ diag(L))"
   ]
  },
  {
   "cell_type": "markdown",
   "metadata": {},
   "source": [
    "Finally, for the term defining the correlation"
   ]
  },
  {
   "cell_type": "code",
   "execution_count": 55,
   "metadata": {},
   "outputs": [
    {
     "data": {
      "text/plain": [
       "39×39 Bidiagonal{Bool,Array{Bool,1}}:\n",
       " 0  ⋅  ⋅  ⋅  ⋅  ⋅  ⋅  ⋅  ⋅  ⋅  ⋅  ⋅  ⋅  …  ⋅  ⋅  ⋅  ⋅  ⋅  ⋅  ⋅  ⋅  ⋅  ⋅  ⋅  ⋅\n",
       " 1  0  ⋅  ⋅  ⋅  ⋅  ⋅  ⋅  ⋅  ⋅  ⋅  ⋅  ⋅     ⋅  ⋅  ⋅  ⋅  ⋅  ⋅  ⋅  ⋅  ⋅  ⋅  ⋅  ⋅\n",
       " ⋅  0  0  ⋅  ⋅  ⋅  ⋅  ⋅  ⋅  ⋅  ⋅  ⋅  ⋅     ⋅  ⋅  ⋅  ⋅  ⋅  ⋅  ⋅  ⋅  ⋅  ⋅  ⋅  ⋅\n",
       " ⋅  ⋅  1  0  ⋅  ⋅  ⋅  ⋅  ⋅  ⋅  ⋅  ⋅  ⋅     ⋅  ⋅  ⋅  ⋅  ⋅  ⋅  ⋅  ⋅  ⋅  ⋅  ⋅  ⋅\n",
       " ⋅  ⋅  ⋅  0  0  ⋅  ⋅  ⋅  ⋅  ⋅  ⋅  ⋅  ⋅     ⋅  ⋅  ⋅  ⋅  ⋅  ⋅  ⋅  ⋅  ⋅  ⋅  ⋅  ⋅\n",
       " ⋅  ⋅  ⋅  ⋅  1  0  ⋅  ⋅  ⋅  ⋅  ⋅  ⋅  ⋅  …  ⋅  ⋅  ⋅  ⋅  ⋅  ⋅  ⋅  ⋅  ⋅  ⋅  ⋅  ⋅\n",
       " ⋅  ⋅  ⋅  ⋅  ⋅  0  0  ⋅  ⋅  ⋅  ⋅  ⋅  ⋅     ⋅  ⋅  ⋅  ⋅  ⋅  ⋅  ⋅  ⋅  ⋅  ⋅  ⋅  ⋅\n",
       " ⋅  ⋅  ⋅  ⋅  ⋅  ⋅  1  0  ⋅  ⋅  ⋅  ⋅  ⋅     ⋅  ⋅  ⋅  ⋅  ⋅  ⋅  ⋅  ⋅  ⋅  ⋅  ⋅  ⋅\n",
       " ⋅  ⋅  ⋅  ⋅  ⋅  ⋅  ⋅  0  0  ⋅  ⋅  ⋅  ⋅     ⋅  ⋅  ⋅  ⋅  ⋅  ⋅  ⋅  ⋅  ⋅  ⋅  ⋅  ⋅\n",
       " ⋅  ⋅  ⋅  ⋅  ⋅  ⋅  ⋅  ⋅  1  0  ⋅  ⋅  ⋅     ⋅  ⋅  ⋅  ⋅  ⋅  ⋅  ⋅  ⋅  ⋅  ⋅  ⋅  ⋅\n",
       " ⋅  ⋅  ⋅  ⋅  ⋅  ⋅  ⋅  ⋅  ⋅  0  0  ⋅  ⋅  …  ⋅  ⋅  ⋅  ⋅  ⋅  ⋅  ⋅  ⋅  ⋅  ⋅  ⋅  ⋅\n",
       " ⋅  ⋅  ⋅  ⋅  ⋅  ⋅  ⋅  ⋅  ⋅  ⋅  1  0  ⋅     ⋅  ⋅  ⋅  ⋅  ⋅  ⋅  ⋅  ⋅  ⋅  ⋅  ⋅  ⋅\n",
       " ⋅  ⋅  ⋅  ⋅  ⋅  ⋅  ⋅  ⋅  ⋅  ⋅  ⋅  0  0     ⋅  ⋅  ⋅  ⋅  ⋅  ⋅  ⋅  ⋅  ⋅  ⋅  ⋅  ⋅\n",
       " ⋮              ⋮              ⋮        ⋱           ⋮              ⋮        \n",
       " ⋅  ⋅  ⋅  ⋅  ⋅  ⋅  ⋅  ⋅  ⋅  ⋅  ⋅  ⋅  ⋅     0  ⋅  ⋅  ⋅  ⋅  ⋅  ⋅  ⋅  ⋅  ⋅  ⋅  ⋅\n",
       " ⋅  ⋅  ⋅  ⋅  ⋅  ⋅  ⋅  ⋅  ⋅  ⋅  ⋅  ⋅  ⋅     0  0  ⋅  ⋅  ⋅  ⋅  ⋅  ⋅  ⋅  ⋅  ⋅  ⋅\n",
       " ⋅  ⋅  ⋅  ⋅  ⋅  ⋅  ⋅  ⋅  ⋅  ⋅  ⋅  ⋅  ⋅     ⋅  1  0  ⋅  ⋅  ⋅  ⋅  ⋅  ⋅  ⋅  ⋅  ⋅\n",
       " ⋅  ⋅  ⋅  ⋅  ⋅  ⋅  ⋅  ⋅  ⋅  ⋅  ⋅  ⋅  ⋅  …  ⋅  ⋅  0  0  ⋅  ⋅  ⋅  ⋅  ⋅  ⋅  ⋅  ⋅\n",
       " ⋅  ⋅  ⋅  ⋅  ⋅  ⋅  ⋅  ⋅  ⋅  ⋅  ⋅  ⋅  ⋅     ⋅  ⋅  ⋅  1  0  ⋅  ⋅  ⋅  ⋅  ⋅  ⋅  ⋅\n",
       " ⋅  ⋅  ⋅  ⋅  ⋅  ⋅  ⋅  ⋅  ⋅  ⋅  ⋅  ⋅  ⋅     ⋅  ⋅  ⋅  ⋅  0  0  ⋅  ⋅  ⋅  ⋅  ⋅  ⋅\n",
       " ⋅  ⋅  ⋅  ⋅  ⋅  ⋅  ⋅  ⋅  ⋅  ⋅  ⋅  ⋅  ⋅     ⋅  ⋅  ⋅  ⋅  ⋅  1  0  ⋅  ⋅  ⋅  ⋅  ⋅\n",
       " ⋅  ⋅  ⋅  ⋅  ⋅  ⋅  ⋅  ⋅  ⋅  ⋅  ⋅  ⋅  ⋅     ⋅  ⋅  ⋅  ⋅  ⋅  ⋅  0  0  ⋅  ⋅  ⋅  ⋅\n",
       " ⋅  ⋅  ⋅  ⋅  ⋅  ⋅  ⋅  ⋅  ⋅  ⋅  ⋅  ⋅  ⋅  …  ⋅  ⋅  ⋅  ⋅  ⋅  ⋅  ⋅  1  0  ⋅  ⋅  ⋅\n",
       " ⋅  ⋅  ⋅  ⋅  ⋅  ⋅  ⋅  ⋅  ⋅  ⋅  ⋅  ⋅  ⋅     ⋅  ⋅  ⋅  ⋅  ⋅  ⋅  ⋅  ⋅  0  0  ⋅  ⋅\n",
       " ⋅  ⋅  ⋅  ⋅  ⋅  ⋅  ⋅  ⋅  ⋅  ⋅  ⋅  ⋅  ⋅     ⋅  ⋅  ⋅  ⋅  ⋅  ⋅  ⋅  ⋅  ⋅  0  0  ⋅\n",
       " ⋅  ⋅  ⋅  ⋅  ⋅  ⋅  ⋅  ⋅  ⋅  ⋅  ⋅  ⋅  ⋅     ⋅  ⋅  ⋅  ⋅  ⋅  ⋅  ⋅  ⋅  ⋅  ⋅  0  0"
      ]
     },
     "execution_count": 55,
     "metadata": {},
     "output_type": "execute_result"
    }
   ],
   "source": [
    "Λ̇ = Bidiagonal(fill(false, 39), vcat(repeat([true, false], 18), falses(2)), :L)"
   ]
  },
  {
   "cell_type": "code",
   "execution_count": 56,
   "metadata": {},
   "outputs": [
    {
     "data": {
      "text/plain": [
       "39×39 Array{Float64,2}:\n",
       "    93.9859  63.4538     0.0      0.0     …   0.0     45.0  285.0  17191.6\n",
       "    63.4538   0.0        0.0      0.0         0.0      0.0    0.0      0.0\n",
       "     0.0      0.0       93.9859  63.4538      0.0     45.0  285.0   9872.08\n",
       "     0.0      0.0       63.4538   0.0         0.0      0.0    0.0      0.0\n",
       "     0.0      0.0        0.0      0.0         0.0     45.0  285.0  10899.5\n",
       "     0.0      0.0        0.0      0.0     …   0.0      0.0    0.0      0.0\n",
       "     0.0      0.0        0.0      0.0         0.0     45.0  285.0  13893.1\n",
       "     0.0      0.0        0.0      0.0         0.0      0.0    0.0      0.0\n",
       "     0.0      0.0        0.0      0.0         0.0     45.0  285.0  14359.1\n",
       "     0.0      0.0        0.0      0.0         0.0      0.0    0.0      0.0\n",
       "     0.0      0.0        0.0      0.0     …   0.0     45.0  285.0  14617.9\n",
       "     0.0      0.0        0.0      0.0         0.0      0.0    0.0      0.0\n",
       "     0.0      0.0        0.0      0.0         0.0     45.0  285.0  14981.3\n",
       "     ⋮                                    ⋱   ⋮                    \n",
       "     0.0      0.0        0.0      0.0         0.0      0.0    0.0      0.0\n",
       "     0.0      0.0        0.0      0.0         0.0     45.0  285.0  14707.8\n",
       "     0.0      0.0        0.0      0.0         0.0      0.0    0.0      0.0\n",
       "     0.0      0.0        0.0      0.0     …   0.0     45.0  285.0  14616.2\n",
       "     0.0      0.0        0.0      0.0         0.0      0.0    0.0      0.0\n",
       "     0.0      0.0        0.0      0.0         0.0     45.0  285.0  14032.3\n",
       "     0.0      0.0        0.0      0.0         0.0      0.0    0.0      0.0\n",
       "     0.0      0.0        0.0      0.0        63.4538  45.0  285.0  15237.0\n",
       "     0.0      0.0        0.0      0.0     …   0.0      0.0    0.0      0.0\n",
       "    45.0      0.0       45.0      0.0         0.0      0.0    0.0      0.0\n",
       "   285.0      0.0      285.0      0.0         0.0      0.0    0.0      0.0\n",
       " 17191.6      0.0     9872.08     0.0         0.0      0.0    0.0      0.0"
      ]
     },
     "execution_count": 56,
     "metadata": {},
     "output_type": "execute_result"
    }
   ],
   "source": [
    "Σ̇ = Λ̇'A*Λ + Λ'A*Λ̇"
   ]
  },
  {
   "cell_type": "code",
   "execution_count": 57,
   "metadata": {},
   "outputs": [
    {
     "data": {
      "text/plain": [
       "39×39 Array{Float64,2}:\n",
       "  14.0118        0.0        0.0       …      0.0        0.0        0.0\n",
       "   5.88634      -7.90573    0.0              0.0        0.0        0.0\n",
       "   0.0           0.0       14.0118           0.0        0.0        0.0\n",
       "   0.0           0.0        5.88634          0.0        0.0        0.0\n",
       "   0.0           0.0        0.0              0.0        0.0        0.0\n",
       "   0.0           0.0        0.0       …      0.0        0.0        0.0\n",
       "   0.0           0.0        0.0              0.0        0.0        0.0\n",
       "   0.0           0.0        0.0              0.0        0.0        0.0\n",
       "   0.0           0.0        0.0              0.0        0.0        0.0\n",
       "   0.0           0.0        0.0              0.0        0.0        0.0\n",
       "   0.0           0.0        0.0       …      0.0        0.0        0.0\n",
       "   0.0           0.0        0.0              0.0        0.0        0.0\n",
       "   0.0           0.0        0.0              0.0        0.0        0.0\n",
       "   ⋮                                  ⋱                          \n",
       "   0.0           0.0        0.0              0.0        0.0        0.0\n",
       "   0.0           0.0        0.0              0.0        0.0        0.0\n",
       "   0.0           0.0        0.0              0.0        0.0        0.0\n",
       "   0.0           0.0        0.0       …      0.0        0.0        0.0\n",
       "   0.0           0.0        0.0              0.0        0.0        0.0\n",
       "   0.0           0.0        0.0              0.0        0.0        0.0\n",
       "   0.0           0.0        0.0              0.0        0.0        0.0\n",
       "   0.0           0.0        0.0              0.0        0.0        0.0\n",
       "   0.0           0.0        0.0       …      0.0        0.0        0.0\n",
       "   0.823673     -7.84407    0.823673        -1.87544    0.0        0.0\n",
       "  26.4382      -42.0895    26.4382         -60.8909    -4.99038    0.0\n",
       " 776.555     -2831.53     228.696        -1108.86     -52.2358   -26.5862"
      ]
     },
     "execution_count": 57,
     "metadata": {},
     "output_type": "execute_result"
    }
   ],
   "source": [
    "L̇ = MixedModels.chol_unblocked_fwd(Matrix(LowerTriangular(Σ̇)), L)"
   ]
  },
  {
   "cell_type": "code",
   "execution_count": 58,
   "metadata": {},
   "outputs": [
    {
     "data": {
      "text/plain": [
       "0.0010090706624659163"
      ]
     },
     "execution_count": 58,
     "metadata": {},
     "output_type": "execute_result"
    }
   ],
   "source": [
    "ḟ = 2dot(diag(L̇), vcat(ones(36), zeros(2), 180) ./ diag(L))"
   ]
  },
  {
   "cell_type": "markdown",
   "metadata": {},
   "source": [
    "## Forward mode versus reverse mode\n",
    "\n",
    "A Julia implementation of the reverse-mode automatic differentiation algorithm given in [https://arxiv.org/abs/1602.07527] is available in the [Nabla.jl](https://github.com/invenia/Nable.jl) package.  In fact, the forward-mode AD implementation in the [MixedModels.jl](https://github.com/JuliaStats/MixedModels.jl) package is directly patterned on the `Nabla.jl` implementation of reverse-mode AD."
   ]
  },
  {
   "cell_type": "code",
   "execution_count": 59,
   "metadata": {},
   "outputs": [
    {
     "data": {
      "text/latex": [
       "\\begin{verbatim}\n",
       "chol_unblocked_fwd!(Σ̇::AbstractMatrix, L::AbstractMatrix)\n",
       "\\end{verbatim}\n",
       "Overwrite the sensitivities, Σ̇, by the sensitivities, L̇, of the lower Cholesky factor, L\n",
       "\n",
       "This is the scalar, unblocked version of the forward mode differentiation of the Cholesky factor given at the bottom of p. 6 in the reference.  Only the lower triangle of Σ̇ is referenced and overwritten.\n",
       "\n",
       "Note how close this code is to the pseudo-code in the reference - much closer than the Python code in the appendix.\n",
       "\n"
      ],
      "text/markdown": [
       "```\n",
       "chol_unblocked_fwd!(Σ̇::AbstractMatrix, L::AbstractMatrix)\n",
       "```\n",
       "\n",
       "Overwrite the sensitivities, Σ̇, by the sensitivities, L̇, of the lower Cholesky factor, L\n",
       "\n",
       "This is the scalar, unblocked version of the forward mode differentiation of the Cholesky factor given at the bottom of p. 6 in the reference.  Only the lower triangle of Σ̇ is referenced and overwritten.\n",
       "\n",
       "Note how close this code is to the pseudo-code in the reference - much closer than the Python code in the appendix.\n"
      ],
      "text/plain": [
       "\u001b[36m  chol_unblocked_fwd!(Σ̇::AbstractMatrix, L::AbstractMatrix)\u001b[39m\n",
       "\n",
       "  Overwrite the sensitivities, Σ̇, by the sensitivities, L̇, of the lower\n",
       "  Cholesky factor, L\n",
       "\n",
       "  This is the scalar, unblocked version of the forward mode differentiation of\n",
       "  the Cholesky factor given at the bottom of p. 6 in the reference. Only the\n",
       "  lower triangle of Σ̇ is referenced and overwritten.\n",
       "\n",
       "  Note how close this code is to the pseudo-code in the reference - much\n",
       "  closer than the Python code in the appendix."
      ]
     },
     "execution_count": 59,
     "metadata": {},
     "output_type": "execute_result"
    }
   ],
   "source": [
    "?MixedModels.chol_unblocked_fwd!"
   ]
  },
  {
   "cell_type": "code",
   "execution_count": 60,
   "metadata": {},
   "outputs": [],
   "source": [
    "using Nabla"
   ]
  },
  {
   "cell_type": "code",
   "execution_count": 61,
   "metadata": {},
   "outputs": [
    {
     "data": {
      "text/latex": [
       "\\begin{verbatim}\n",
       "chol_unblocked_rev!(\n",
       "    Ā::AbstractMatrix{T},\n",
       "    L::AbstractMatrix{T},\n",
       "    upper::Bool\n",
       ") where T<:Real\n",
       "\\end{verbatim}\n",
       "Compute the reverse-mode sensitivities of the Cholesky factorisation in an unblocked manner. If \\texttt{upper} is \\texttt{false}, then the sensitivites computed from and stored in the lower triangle of \\texttt{Ā} and \\texttt{L} respectively. If \\texttt{upper} is \\texttt{true} then they are computed and stored in the upper triangles. If at input \\texttt{upper} is \\texttt{false} and \\texttt{tril(Ā) = L̄}, at output \\texttt{tril(Ā) = tril(Σ̄)}, where \\texttt{Σ = LLᵀ}. Analogously, if at input \\texttt{upper} is \\texttt{true} and \\texttt{triu(Ā) = triu(Ū)}, at output \\texttt{triu(Ā) = triu(Σ̄)} where \\texttt{Σ = UᵀU}.\n",
       "\n"
      ],
      "text/markdown": [
       "```\n",
       "chol_unblocked_rev!(\n",
       "    Ā::AbstractMatrix{T},\n",
       "    L::AbstractMatrix{T},\n",
       "    upper::Bool\n",
       ") where T<:Real\n",
       "```\n",
       "\n",
       "Compute the reverse-mode sensitivities of the Cholesky factorisation in an unblocked manner. If `upper` is `false`, then the sensitivites computed from and stored in the lower triangle of `Ā` and `L` respectively. If `upper` is `true` then they are computed and stored in the upper triangles. If at input `upper` is `false` and `tril(Ā) = L̄`, at output `tril(Ā) = tril(Σ̄)`, where `Σ = LLᵀ`. Analogously, if at input `upper` is `true` and `triu(Ā) = triu(Ū)`, at output `triu(Ā) = triu(Σ̄)` where `Σ = UᵀU`.\n"
      ],
      "text/plain": [
       "\u001b[36m  chol_unblocked_rev!(\u001b[39m\n",
       "\u001b[36m      Ā::AbstractMatrix{T},\u001b[39m\n",
       "\u001b[36m      L::AbstractMatrix{T},\u001b[39m\n",
       "\u001b[36m      upper::Bool\u001b[39m\n",
       "\u001b[36m  ) where T<:Real\u001b[39m\n",
       "\n",
       "  Compute the reverse-mode sensitivities of the Cholesky factorisation in an\n",
       "  unblocked manner. If \u001b[36mupper\u001b[39m is \u001b[36mfalse\u001b[39m, then the sensitivites computed from and\n",
       "  stored in the lower triangle of \u001b[36mĀ\u001b[39m and \u001b[36mL\u001b[39m respectively. If \u001b[36mupper\u001b[39m is \u001b[36mtrue\u001b[39m then\n",
       "  they are computed and stored in the upper triangles. If at input \u001b[36mupper\u001b[39m is\n",
       "  \u001b[36mfalse\u001b[39m and \u001b[36mtril(Ā) = L̄\u001b[39m, at output \u001b[36mtril(Ā) = tril(Σ̄)\u001b[39m, where \u001b[36mΣ = LLᵀ\u001b[39m.\n",
       "  Analogously, if at input \u001b[36mupper\u001b[39m is \u001b[36mtrue\u001b[39m and \u001b[36mtriu(Ā) = triu(Ū)\u001b[39m, at output\n",
       "  \u001b[36mtriu(Ā) = triu(Σ̄)\u001b[39m where \u001b[36mΣ = UᵀU\u001b[39m."
      ]
     },
     "execution_count": 61,
     "metadata": {},
     "output_type": "execute_result"
    }
   ],
   "source": [
    "?Nabla.chol_unblocked_rev!"
   ]
  },
  {
   "cell_type": "markdown",
   "metadata": {},
   "source": [
    "The big advantage of forward-mode AD for this calculation is that the gradient evaluation preserves the sparsity patterns of $\\mathbf{L}$ in $\\dot{\\mathbf{L}}$.  Recall that it is the sparsity of $\\mathbf{L}$ that makes the whole calculation feasible for complex models fit to large data sets.  The disadvantage of forward-mode relative to reverse mode is that the calculations, especially evaluating $\\dot{\\mathbf{L}}$ from $\\dot{\\mathbf{\\Sigma}}$ must be repeated for each element of the gradient vector.  In reverse mode the sensitivities, written $\\bar{\\mathbf{L}}$, etc., are \"pulled back\" from $f$ to $\\mathbf{L}$ to $\\mathbf{\\Sigma}$ to $\\mathbf{\\Lambda}$ and finally to $\\mathbf{\\theta}$.  There is only one calculation at each step until the last.  Unfortunately the sparsity is lost at the first step."
   ]
  },
  {
   "cell_type": "code",
   "execution_count": 62,
   "metadata": {},
   "outputs": [
    {
     "data": {
      "text/plain": [
       "39×39 Array{Float64,2}:\n",
       " 0.596337  0.0       0.0       0.0       …  0.0       0.0  0.0  0.0\n",
       " 0.0       0.861032  0.0       0.0          0.0       0.0  0.0  0.0\n",
       " 0.0       0.0       0.596337  0.0          0.0       0.0  0.0  0.0\n",
       " 0.0       0.0       0.0       0.861032     0.0       0.0  0.0  0.0\n",
       " 0.0       0.0       0.0       0.0          0.0       0.0  0.0  0.0\n",
       " 0.0       0.0       0.0       0.0       …  0.0       0.0  0.0  0.0\n",
       " 0.0       0.0       0.0       0.0          0.0       0.0  0.0  0.0\n",
       " 0.0       0.0       0.0       0.0          0.0       0.0  0.0  0.0\n",
       " 0.0       0.0       0.0       0.0          0.0       0.0  0.0  0.0\n",
       " 0.0       0.0       0.0       0.0          0.0       0.0  0.0  0.0\n",
       " 0.0       0.0       0.0       0.0       …  0.0       0.0  0.0  0.0\n",
       " 0.0       0.0       0.0       0.0          0.0       0.0  0.0  0.0\n",
       " 0.0       0.0       0.0       0.0          0.0       0.0  0.0  0.0\n",
       " ⋮                                       ⋱  ⋮                   \n",
       " 0.0       0.0       0.0       0.0          0.0       0.0  0.0  0.0\n",
       " 0.0       0.0       0.0       0.0          0.0       0.0  0.0  0.0\n",
       " 0.0       0.0       0.0       0.0          0.0       0.0  0.0  0.0\n",
       " 0.0       0.0       0.0       0.0       …  0.0       0.0  0.0  0.0\n",
       " 0.0       0.0       0.0       0.0          0.0       0.0  0.0  0.0\n",
       " 0.0       0.0       0.0       0.0          0.0       0.0  0.0  0.0\n",
       " 0.0       0.0       0.0       0.0          0.0       0.0  0.0  0.0\n",
       " 0.0       0.0       0.0       0.0          0.0       0.0  0.0  0.0\n",
       " 0.0       0.0       0.0       0.0       …  0.861032  0.0  0.0  0.0\n",
       " 0.0       0.0       0.0       0.0          0.0       0.0  0.0  0.0\n",
       " 0.0       0.0       0.0       0.0          0.0       0.0  0.0  0.0\n",
       " 0.0       0.0       0.0       0.0          0.0       0.0  0.0  1.04849"
      ]
     },
     "execution_count": 62,
     "metadata": {},
     "output_type": "execute_result"
    }
   ],
   "source": [
    "L̄ = Matrix(Diagonal(2vcat(inv.(diag(L)[1:36]), zeros(2), 180.0/last(L))))"
   ]
  },
  {
   "cell_type": "code",
   "execution_count": 63,
   "metadata": {},
   "outputs": [
    {
     "data": {
      "text/plain": [
       "39×39 Array{Float64,2}:\n",
       "  0.263293     0.0          0.0       …   0.0        0.0       0.0\n",
       "  0.0301036    2.69162      0.0           0.0        0.0       0.0\n",
       " -0.398823    -5.33224      3.08543       0.0        0.0       0.0\n",
       " -0.326724    -4.36828      4.30207       0.0        0.0       0.0\n",
       " -0.382736    -5.11716      5.44352       0.0        0.0       0.0\n",
       " -0.197918    -2.64615      2.81492   …   0.0        0.0       0.0\n",
       "  0.227374     3.03998     -3.23386       0.0        0.0       0.0\n",
       " -0.212182    -2.83686      3.01779       0.0        0.0       0.0\n",
       "  0.214604     2.86925     -3.05224       0.0        0.0       0.0\n",
       " -0.139892    -1.87036      1.98964       0.0        0.0       0.0\n",
       "  0.0877896    1.17374     -1.2486    …   0.0        0.0       0.0\n",
       " -0.0169394   -0.226479     0.240923      0.0        0.0       0.0\n",
       "  0.163737     2.18915     -2.32877       0.0        0.0       0.0\n",
       "  ⋮                                   ⋱                        \n",
       "  0.131275     1.75514     -1.86708       0.0        0.0       0.0\n",
       "  0.0324501    0.433857    -0.461527      0.0        0.0       0.0\n",
       "  0.0335824    0.448995    -0.477631      0.0        0.0       0.0\n",
       " -0.246076    -3.29003      3.49985   …   0.0        0.0       0.0\n",
       "  0.213749     2.85781     -3.04008       0.0        0.0       0.0\n",
       "  0.00720261   0.0962985   -0.10244       0.0        0.0       0.0\n",
       " -0.040947    -0.54746      0.582375      0.0        0.0       0.0\n",
       "  0.120686     1.61357     -1.71648       0.0        0.0       0.0\n",
       "  0.0446275    0.596667    -0.634721  …   0.0        0.0       0.0\n",
       "  2.32642     31.1041     -33.0878       96.5041     0.0       0.0\n",
       "  0.0968607    1.29502     -1.37762       8.03592    0.167288  0.0\n",
       " -0.00925365  -0.123721     0.131612     -0.767718  -0.031964  0.00152685"
      ]
     },
     "execution_count": 63,
     "metadata": {},
     "output_type": "execute_result"
    }
   ],
   "source": [
    "Σ̄ = Nabla.chol_unblocked_rev(L̄, L, false)"
   ]
  },
  {
   "cell_type": "markdown",
   "metadata": {},
   "source": [
    "It seems more reasonable to repeat the forward mode evaluations using the blocked structure already in place than to have the problem size blow up by replacing sparse, blocked operations by dense operations. However, this is something that should be verified through actual implementation and benchmarking."
   ]
  }
 ],
 "metadata": {
  "kernelspec": {
   "display_name": "Julia 1.4.0",
   "language": "julia",
   "name": "julia-1.4"
  },
  "language_info": {
   "file_extension": ".jl",
   "mimetype": "application/julia",
   "name": "julia",
   "version": "1.4.0"
  }
 },
 "nbformat": 4,
 "nbformat_minor": 4
}
